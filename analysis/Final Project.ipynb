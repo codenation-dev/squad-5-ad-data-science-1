{
 "cells": [
  {
   "cell_type": "markdown",
   "metadata": {},
   "source": [
    "# Projeto Final\n",
    "\n",
    "Utilizando as features selecionadas anteriormente.\n",
    "O notebook visa definir uma métrica para, a partir dela, continuar evoluindo o sistema de recomendaçoes\n"
   ]
  },
  {
   "cell_type": "markdown",
   "metadata": {},
   "source": [
    "## Seleçãio e tratamento dos dados \n"
   ]
  },
  {
   "cell_type": "code",
   "execution_count": 1,
   "metadata": {},
   "outputs": [],
   "source": [
    "import numpy as np\n",
    "import pandas as pd\n",
    "from sklearn import preprocessing"
   ]
  },
  {
   "cell_type": "code",
   "execution_count": 2,
   "metadata": {},
   "outputs": [
    {
     "data": {
      "text/html": [
       "<div>\n",
       "<style scoped>\n",
       "    .dataframe tbody tr th:only-of-type {\n",
       "        vertical-align: middle;\n",
       "    }\n",
       "\n",
       "    .dataframe tbody tr th {\n",
       "        vertical-align: top;\n",
       "    }\n",
       "\n",
       "    .dataframe thead th {\n",
       "        text-align: right;\n",
       "    }\n",
       "</style>\n",
       "<table border=\"1\" class=\"dataframe\">\n",
       "  <thead>\n",
       "    <tr style=\"text-align: right;\">\n",
       "      <th></th>\n",
       "      <th>Unnamed: 0</th>\n",
       "      <th>id</th>\n",
       "      <th>fl_matriz</th>\n",
       "      <th>de_natureza_juridica</th>\n",
       "      <th>sg_uf</th>\n",
       "      <th>natureza_juridica_macro</th>\n",
       "      <th>de_ramo</th>\n",
       "      <th>setor</th>\n",
       "      <th>idade_empresa_anos</th>\n",
       "      <th>idade_emp_cat</th>\n",
       "      <th>...</th>\n",
       "      <th>media_meses_servicos</th>\n",
       "      <th>max_meses_servicos</th>\n",
       "      <th>min_meses_servicos</th>\n",
       "      <th>qt_funcionarios</th>\n",
       "      <th>qt_funcionarios_12meses</th>\n",
       "      <th>qt_funcionarios_24meses</th>\n",
       "      <th>tx_crescimento_12meses</th>\n",
       "      <th>tx_crescimento_24meses</th>\n",
       "      <th>tx_rotatividade</th>\n",
       "      <th>qt_filiais</th>\n",
       "    </tr>\n",
       "  </thead>\n",
       "  <tbody>\n",
       "    <tr>\n",
       "      <th>0</th>\n",
       "      <td>0</td>\n",
       "      <td>a6984c3ae395090e3bee8ad63c3758b110de096d5d8195...</td>\n",
       "      <td>True</td>\n",
       "      <td>SOCIEDADE EMPRESARIA LIMITADA</td>\n",
       "      <td>RN</td>\n",
       "      <td>ENTIDADES EMPRESARIAIS</td>\n",
       "      <td>INDUSTRIA DA CONSTRUCAO</td>\n",
       "      <td>CONSTRUÇÃO CIVIL</td>\n",
       "      <td>14.457534</td>\n",
       "      <td>10 a 15</td>\n",
       "      <td>...</td>\n",
       "      <td>43.738462</td>\n",
       "      <td>93.266667</td>\n",
       "      <td>19.166667</td>\n",
       "      <td>26.0</td>\n",
       "      <td>26.0</td>\n",
       "      <td>27.0</td>\n",
       "      <td>0.0</td>\n",
       "      <td>-3.703704</td>\n",
       "      <td>0.0</td>\n",
       "      <td>0</td>\n",
       "    </tr>\n",
       "    <tr>\n",
       "      <th>1</th>\n",
       "      <td>1</td>\n",
       "      <td>6178f41ade1365e44bc2c46654c2c8c0eaae27dcb476c4...</td>\n",
       "      <td>True</td>\n",
       "      <td>EMPRESARIO INDIVIDUAL</td>\n",
       "      <td>PI</td>\n",
       "      <td>OUTROS</td>\n",
       "      <td>SERVICOS DE ALOJAMENTO/ALIMENTACAO</td>\n",
       "      <td>SERVIÇO</td>\n",
       "      <td>1.463014</td>\n",
       "      <td>1 a 5</td>\n",
       "      <td>...</td>\n",
       "      <td>NaN</td>\n",
       "      <td>NaN</td>\n",
       "      <td>NaN</td>\n",
       "      <td>NaN</td>\n",
       "      <td>NaN</td>\n",
       "      <td>NaN</td>\n",
       "      <td>NaN</td>\n",
       "      <td>NaN</td>\n",
       "      <td>NaN</td>\n",
       "      <td>0</td>\n",
       "    </tr>\n",
       "    <tr>\n",
       "      <th>2</th>\n",
       "      <td>2</td>\n",
       "      <td>4a7e5069a397f12fdd7fd57111d6dc5d3ba558958efc02...</td>\n",
       "      <td>True</td>\n",
       "      <td>EMPRESARIO INDIVIDUAL</td>\n",
       "      <td>AM</td>\n",
       "      <td>OUTROS</td>\n",
       "      <td>TRANSPORTE, ARMAZENAGEM E CORREIO</td>\n",
       "      <td>SERVIÇO</td>\n",
       "      <td>7.093151</td>\n",
       "      <td>5 a 10</td>\n",
       "      <td>...</td>\n",
       "      <td>NaN</td>\n",
       "      <td>NaN</td>\n",
       "      <td>NaN</td>\n",
       "      <td>NaN</td>\n",
       "      <td>NaN</td>\n",
       "      <td>NaN</td>\n",
       "      <td>NaN</td>\n",
       "      <td>NaN</td>\n",
       "      <td>NaN</td>\n",
       "      <td>0</td>\n",
       "    </tr>\n",
       "    <tr>\n",
       "      <th>3</th>\n",
       "      <td>3</td>\n",
       "      <td>3348900fe63216a439d2e5238c79ddd46ede454df7b9d8...</td>\n",
       "      <td>True</td>\n",
       "      <td>EMPRESARIO INDIVIDUAL</td>\n",
       "      <td>AM</td>\n",
       "      <td>OUTROS</td>\n",
       "      <td>SERVICOS DIVERSOS</td>\n",
       "      <td>SERVIÇO</td>\n",
       "      <td>6.512329</td>\n",
       "      <td>5 a 10</td>\n",
       "      <td>...</td>\n",
       "      <td>NaN</td>\n",
       "      <td>NaN</td>\n",
       "      <td>NaN</td>\n",
       "      <td>NaN</td>\n",
       "      <td>NaN</td>\n",
       "      <td>NaN</td>\n",
       "      <td>NaN</td>\n",
       "      <td>NaN</td>\n",
       "      <td>NaN</td>\n",
       "      <td>0</td>\n",
       "    </tr>\n",
       "    <tr>\n",
       "      <th>4</th>\n",
       "      <td>4</td>\n",
       "      <td>1f9bcabc9d3173c1fe769899e4fac14b053037b953a1e4...</td>\n",
       "      <td>True</td>\n",
       "      <td>EMPRESARIO INDIVIDUAL</td>\n",
       "      <td>RN</td>\n",
       "      <td>OUTROS</td>\n",
       "      <td>SERVICOS PROFISSIONAIS, TECNICOS E CIENTIFICOS</td>\n",
       "      <td>SERVIÇO</td>\n",
       "      <td>3.200000</td>\n",
       "      <td>1 a 5</td>\n",
       "      <td>...</td>\n",
       "      <td>NaN</td>\n",
       "      <td>NaN</td>\n",
       "      <td>NaN</td>\n",
       "      <td>NaN</td>\n",
       "      <td>NaN</td>\n",
       "      <td>NaN</td>\n",
       "      <td>NaN</td>\n",
       "      <td>NaN</td>\n",
       "      <td>NaN</td>\n",
       "      <td>0</td>\n",
       "    </tr>\n",
       "  </tbody>\n",
       "</table>\n",
       "<p>5 rows × 182 columns</p>\n",
       "</div>"
      ],
      "text/plain": [
       "   Unnamed: 0                                                 id  fl_matriz  \\\n",
       "0           0  a6984c3ae395090e3bee8ad63c3758b110de096d5d8195...       True   \n",
       "1           1  6178f41ade1365e44bc2c46654c2c8c0eaae27dcb476c4...       True   \n",
       "2           2  4a7e5069a397f12fdd7fd57111d6dc5d3ba558958efc02...       True   \n",
       "3           3  3348900fe63216a439d2e5238c79ddd46ede454df7b9d8...       True   \n",
       "4           4  1f9bcabc9d3173c1fe769899e4fac14b053037b953a1e4...       True   \n",
       "\n",
       "            de_natureza_juridica sg_uf natureza_juridica_macro  \\\n",
       "0  SOCIEDADE EMPRESARIA LIMITADA    RN  ENTIDADES EMPRESARIAIS   \n",
       "1          EMPRESARIO INDIVIDUAL    PI                  OUTROS   \n",
       "2          EMPRESARIO INDIVIDUAL    AM                  OUTROS   \n",
       "3          EMPRESARIO INDIVIDUAL    AM                  OUTROS   \n",
       "4          EMPRESARIO INDIVIDUAL    RN                  OUTROS   \n",
       "\n",
       "                                          de_ramo             setor  \\\n",
       "0                         INDUSTRIA DA CONSTRUCAO  CONSTRUÇÃO CIVIL   \n",
       "1              SERVICOS DE ALOJAMENTO/ALIMENTACAO           SERVIÇO   \n",
       "2               TRANSPORTE, ARMAZENAGEM E CORREIO           SERVIÇO   \n",
       "3                               SERVICOS DIVERSOS           SERVIÇO   \n",
       "4  SERVICOS PROFISSIONAIS, TECNICOS E CIENTIFICOS           SERVIÇO   \n",
       "\n",
       "   idade_empresa_anos idade_emp_cat  ...  media_meses_servicos  \\\n",
       "0           14.457534       10 a 15  ...             43.738462   \n",
       "1            1.463014         1 a 5  ...                   NaN   \n",
       "2            7.093151        5 a 10  ...                   NaN   \n",
       "3            6.512329        5 a 10  ...                   NaN   \n",
       "4            3.200000         1 a 5  ...                   NaN   \n",
       "\n",
       "   max_meses_servicos  min_meses_servicos  qt_funcionarios  \\\n",
       "0           93.266667           19.166667             26.0   \n",
       "1                 NaN                 NaN              NaN   \n",
       "2                 NaN                 NaN              NaN   \n",
       "3                 NaN                 NaN              NaN   \n",
       "4                 NaN                 NaN              NaN   \n",
       "\n",
       "   qt_funcionarios_12meses qt_funcionarios_24meses  tx_crescimento_12meses  \\\n",
       "0                     26.0                    27.0                     0.0   \n",
       "1                      NaN                     NaN                     NaN   \n",
       "2                      NaN                     NaN                     NaN   \n",
       "3                      NaN                     NaN                     NaN   \n",
       "4                      NaN                     NaN                     NaN   \n",
       "\n",
       "   tx_crescimento_24meses  tx_rotatividade qt_filiais  \n",
       "0               -3.703704              0.0          0  \n",
       "1                     NaN              NaN          0  \n",
       "2                     NaN              NaN          0  \n",
       "3                     NaN              NaN          0  \n",
       "4                     NaN              NaN          0  \n",
       "\n",
       "[5 rows x 182 columns]"
      ]
     },
     "execution_count": 2,
     "metadata": {},
     "output_type": "execute_result"
    }
   ],
   "source": [
    "estaticos_market = pd.read_csv('estaticos_market.csv')\n",
    "estaticos_market.head()"
   ]
  },
  {
   "cell_type": "code",
   "execution_count": 3,
   "metadata": {},
   "outputs": [],
   "source": [
    "data = estaticos_market[[\n",
    "    'id', \n",
    "    'de_natureza_juridica', \n",
    "    'sg_uf', \n",
    "    'natureza_juridica_macro',\n",
    "    'de_ramo',\n",
    "    'setor',\n",
    "    'idade_empresa_anos',\n",
    "    'idade_emp_cat',\n",
    "    'fl_mei',\n",
    "    'dt_situacao',\n",
    "    'fl_email',\n",
    "    'fl_telefone',\n",
    "    'fl_rm',\n",
    "    'nm_divisao',\n",
    "    'nm_segmento',\n",
    "    'fl_optante_simples',\n",
    "    'fl_optante_simei',\n",
    "    'sg_uf_matriz',\n",
    "    'de_saude_tributaria',\n",
    "    'de_saude_rescencia',\n",
    "    'nu_meses_rescencia',\n",
    "    'de_nivel_atividade',\n",
    "    'nm_meso_regiao',\n",
    "    'nm_micro_regiao',\n",
    "    'fl_passivel_iss',\n",
    "    'de_faixa_faturamento_estimado',\n",
    "    'de_faixa_faturamento_estimado_grupo'\n",
    "]]"
   ]
  },
  {
   "cell_type": "code",
   "execution_count": 4,
   "metadata": {},
   "outputs": [
    {
     "name": "stdout",
     "output_type": "stream",
     "text": [
      "Column id has 0 nulls / 0.0% \n",
      "Column de_natureza_juridica has 0 nulls / 0.0% \n",
      "Column sg_uf has 0 nulls / 0.0% \n",
      "Column natureza_juridica_macro has 0 nulls / 0.0% \n",
      "Column de_ramo has 0 nulls / 0.0% \n",
      "Column setor has 1927 nulls / 0.4168307022742906% \n",
      "Column idade_empresa_anos has 0 nulls / 0.0% \n",
      "Column idade_emp_cat has 0 nulls / 0.0% \n",
      "Column fl_mei has 0 nulls / 0.0% \n",
      "Column dt_situacao has 6 nulls / 0.0012978641482333905% \n",
      "Column fl_email has 0 nulls / 0.0% \n",
      "Column fl_telefone has 0 nulls / 0.0% \n",
      "Column fl_rm has 0 nulls / 0.0% \n",
      "Column nm_divisao has 1927 nulls / 0.4168307022742906% \n",
      "Column nm_segmento has 1927 nulls / 0.4168307022742906% \n",
      "Column fl_optante_simples has 82713 nulls / 17.891706215471405% \n",
      "Column fl_optante_simei has 82713 nulls / 17.891706215471405% \n",
      "Column sg_uf_matriz has 1939 nulls / 0.41942643057075735% \n",
      "Column de_saude_tributaria has 14851 nulls / 3.2124300775690138% \n",
      "Column de_saude_rescencia has 14851 nulls / 3.2124300775690138% \n",
      "Column nu_meses_rescencia has 45276 nulls / 9.793682862569165% \n",
      "Column de_nivel_atividade has 11168 nulls / 2.4157578012450847% \n",
      "Column nm_meso_regiao has 58698 nulls / 12.697004962167261% \n",
      "Column nm_micro_regiao has 58698 nulls / 12.697004962167261% \n",
      "Column fl_passivel_iss has 1927 nulls / 0.4168307022742906% \n",
      "Column de_faixa_faturamento_estimado has 27513 nulls / 5.951356051724212% \n",
      "Column de_faixa_faturamento_estimado_grupo has 27513 nulls / 5.951356051724212% \n"
     ]
    }
   ],
   "source": [
    "def print_null_cols(df):\n",
    "    for col in df.columns:\n",
    "        nulls_value = df[col].isna().sum()\n",
    "        percentage = 100*(nulls_value / df.shape[0])\n",
    "        message = \"Column {} has {} nulls / {}% \".format(col, nulls_value, percentage)\n",
    "        print(message)\n",
    "        \n",
    "print_null_cols(data)      "
   ]
  },
  {
   "cell_type": "markdown",
   "metadata": {},
   "source": [
    "## Primeira tentativa é preencher com 0 os valores nulos.\n",
    "\n",
    "tentar modificar esses valores com outras estratégias mais tarde"
   ]
  },
  {
   "cell_type": "code",
   "execution_count": 5,
   "metadata": {},
   "outputs": [
    {
     "name": "stderr",
     "output_type": "stream",
     "text": [
      "/home/igor/anaconda3/lib/python3.7/site-packages/pandas/core/frame.py:4034: SettingWithCopyWarning: \n",
      "A value is trying to be set on a copy of a slice from a DataFrame\n",
      "\n",
      "See the caveats in the documentation: http://pandas.pydata.org/pandas-docs/stable/indexing.html#indexing-view-versus-copy\n",
      "  downcast=downcast, **kwargs)\n"
     ]
    }
   ],
   "source": [
    "data.fillna(0, inplace=True)"
   ]
  },
  {
   "cell_type": "code",
   "execution_count": 6,
   "metadata": {
    "scrolled": true
   },
   "outputs": [
    {
     "name": "stdout",
     "output_type": "stream",
     "text": [
      "Column id has 0 nulls / 0.0% \n",
      "Column de_natureza_juridica has 0 nulls / 0.0% \n",
      "Column sg_uf has 0 nulls / 0.0% \n",
      "Column natureza_juridica_macro has 0 nulls / 0.0% \n",
      "Column de_ramo has 0 nulls / 0.0% \n",
      "Column setor has 0 nulls / 0.0% \n",
      "Column idade_empresa_anos has 0 nulls / 0.0% \n",
      "Column idade_emp_cat has 0 nulls / 0.0% \n",
      "Column fl_mei has 0 nulls / 0.0% \n",
      "Column dt_situacao has 0 nulls / 0.0% \n",
      "Column fl_email has 0 nulls / 0.0% \n",
      "Column fl_telefone has 0 nulls / 0.0% \n",
      "Column fl_rm has 0 nulls / 0.0% \n",
      "Column nm_divisao has 0 nulls / 0.0% \n",
      "Column nm_segmento has 0 nulls / 0.0% \n",
      "Column fl_optante_simples has 0 nulls / 0.0% \n",
      "Column fl_optante_simei has 0 nulls / 0.0% \n",
      "Column sg_uf_matriz has 0 nulls / 0.0% \n",
      "Column de_saude_tributaria has 0 nulls / 0.0% \n",
      "Column de_saude_rescencia has 0 nulls / 0.0% \n",
      "Column nu_meses_rescencia has 0 nulls / 0.0% \n",
      "Column de_nivel_atividade has 0 nulls / 0.0% \n",
      "Column nm_meso_regiao has 0 nulls / 0.0% \n",
      "Column nm_micro_regiao has 0 nulls / 0.0% \n",
      "Column fl_passivel_iss has 0 nulls / 0.0% \n",
      "Column de_faixa_faturamento_estimado has 0 nulls / 0.0% \n",
      "Column de_faixa_faturamento_estimado_grupo has 0 nulls / 0.0% \n"
     ]
    }
   ],
   "source": [
    "\n",
    "print_null_cols(data)  "
   ]
  },
  {
   "cell_type": "markdown",
   "metadata": {},
   "source": [
    "## Tratar corretamente algunas dados\n",
    "\n",
    "as colunas **de_faixa_faturamento_estimado** e **de_saude_rescencia** possuem o valor **SEM INFORMACAO**, então os valores que foram preenchidos com 0 devem ser modificados"
   ]
  },
  {
   "cell_type": "code",
   "execution_count": 7,
   "metadata": {},
   "outputs": [
    {
     "name": "stdout",
     "output_type": "stream",
     "text": [
      "(27513, 27)\n",
      "(14851, 27)\n"
     ]
    }
   ],
   "source": [
    "print(data[data.de_faixa_faturamento_estimado == 0].shape)\n",
    "print(data[data.de_saude_rescencia == 0].shape)"
   ]
  },
  {
   "cell_type": "code",
   "execution_count": 8,
   "metadata": {},
   "outputs": [
    {
     "name": "stdout",
     "output_type": "stream",
     "text": [
      "(1173, 27)\n",
      "(30425, 27)\n"
     ]
    }
   ],
   "source": [
    "print(data[data.de_faixa_faturamento_estimado == 'SEM INFORMACAO'].shape)\n",
    "print(data[data.de_saude_rescencia == 'SEM INFORMACAO'].shape)"
   ]
  },
  {
   "cell_type": "markdown",
   "metadata": {},
   "source": [
    " --> Aplicar modificação"
   ]
  },
  {
   "cell_type": "code",
   "execution_count": 9,
   "metadata": {},
   "outputs": [
    {
     "name": "stderr",
     "output_type": "stream",
     "text": [
      "/home/igor/anaconda3/lib/python3.7/site-packages/pandas/core/indexing.py:543: SettingWithCopyWarning: \n",
      "A value is trying to be set on a copy of a slice from a DataFrame.\n",
      "Try using .loc[row_indexer,col_indexer] = value instead\n",
      "\n",
      "See the caveats in the documentation: http://pandas.pydata.org/pandas-docs/stable/indexing.html#indexing-view-versus-copy\n",
      "  self.obj[item] = s\n"
     ]
    }
   ],
   "source": [
    "data.loc[data.de_faixa_faturamento_estimado == 0, 'de_faixa_faturamento_estimado'] = 'SEM INFORMACAO'\n",
    "data.loc[data.de_saude_rescencia == 0, 'de_saude_rescencia'] = 'SEM INFORMACAO'"
   ]
  },
  {
   "cell_type": "code",
   "execution_count": 10,
   "metadata": {},
   "outputs": [
    {
     "name": "stdout",
     "output_type": "stream",
     "text": [
      "(0, 27)\n",
      "(0, 27)\n",
      "(28686, 27)\n",
      "(45276, 27)\n"
     ]
    }
   ],
   "source": [
    "print(data[data.de_faixa_faturamento_estimado == 0].shape)\n",
    "print(data[data.de_saude_rescencia == 0].shape)\n",
    "print(data[data.de_faixa_faturamento_estimado == 'SEM INFORMACAO'].shape)\n",
    "print(data[data.de_saude_rescencia == 'SEM INFORMACAO'].shape)"
   ]
  },
  {
   "cell_type": "markdown",
   "metadata": {},
   "source": [
    "## Categorical variables\n"
   ]
  },
  {
   "cell_type": "code",
   "execution_count": 11,
   "metadata": {},
   "outputs": [],
   "source": [
    "#colunas que serão tratadas\n",
    "features = [ 'de_natureza_juridica', 'sg_uf', 'natureza_juridica_macro',\n",
    "       'de_ramo', 'setor', 'idade_emp_cat', 'fl_mei',\n",
    "       'dt_situacao', 'fl_email', 'fl_telefone', 'fl_rm', 'nm_divisao',\n",
    "       'nm_segmento', 'fl_optante_simples', 'fl_optante_simei', 'sg_uf_matriz',\n",
    "       'de_saude_tributaria', 'de_saude_rescencia',\n",
    "       'de_nivel_atividade', 'nm_meso_regiao', 'nm_micro_regiao',\n",
    "       'fl_passivel_iss', 'de_faixa_faturamento_estimado',\n",
    "       'de_faixa_faturamento_estimado_grupo']"
   ]
  },
  {
   "cell_type": "code",
   "execution_count": 12,
   "metadata": {},
   "outputs": [],
   "source": [
    "data_labeled = data.copy()"
   ]
  },
  {
   "cell_type": "code",
   "execution_count": 13,
   "metadata": {},
   "outputs": [],
   "source": [
    "for col in features:\n",
    "    encoder = preprocessing.LabelEncoder()\n",
    "    data_labeled[col] = encoder.fit_transform(data_labeled[col].astype(str))"
   ]
  },
  {
   "cell_type": "code",
   "execution_count": 14,
   "metadata": {},
   "outputs": [
    {
     "data": {
      "text/html": [
       "<div>\n",
       "<style scoped>\n",
       "    .dataframe tbody tr th:only-of-type {\n",
       "        vertical-align: middle;\n",
       "    }\n",
       "\n",
       "    .dataframe tbody tr th {\n",
       "        vertical-align: top;\n",
       "    }\n",
       "\n",
       "    .dataframe thead th {\n",
       "        text-align: right;\n",
       "    }\n",
       "</style>\n",
       "<table border=\"1\" class=\"dataframe\">\n",
       "  <thead>\n",
       "    <tr style=\"text-align: right;\">\n",
       "      <th></th>\n",
       "      <th>id</th>\n",
       "      <th>de_natureza_juridica</th>\n",
       "      <th>sg_uf</th>\n",
       "      <th>natureza_juridica_macro</th>\n",
       "      <th>de_ramo</th>\n",
       "      <th>setor</th>\n",
       "      <th>idade_empresa_anos</th>\n",
       "      <th>idade_emp_cat</th>\n",
       "      <th>fl_mei</th>\n",
       "      <th>dt_situacao</th>\n",
       "      <th>...</th>\n",
       "      <th>sg_uf_matriz</th>\n",
       "      <th>de_saude_tributaria</th>\n",
       "      <th>de_saude_rescencia</th>\n",
       "      <th>nu_meses_rescencia</th>\n",
       "      <th>de_nivel_atividade</th>\n",
       "      <th>nm_meso_regiao</th>\n",
       "      <th>nm_micro_regiao</th>\n",
       "      <th>fl_passivel_iss</th>\n",
       "      <th>de_faixa_faturamento_estimado</th>\n",
       "      <th>de_faixa_faturamento_estimado_grupo</th>\n",
       "    </tr>\n",
       "  </thead>\n",
       "  <tbody>\n",
       "    <tr>\n",
       "      <th>0</th>\n",
       "      <td>a6984c3ae395090e3bee8ad63c3758b110de096d5d8195...</td>\n",
       "      <td>60</td>\n",
       "      <td>4</td>\n",
       "      <td>2</td>\n",
       "      <td>11</td>\n",
       "      <td>3</td>\n",
       "      <td>14.457534</td>\n",
       "      <td>1</td>\n",
       "      <td>0</td>\n",
       "      <td>2710</td>\n",
       "      <td>...</td>\n",
       "      <td>20</td>\n",
       "      <td>5</td>\n",
       "      <td>0</td>\n",
       "      <td>23.0</td>\n",
       "      <td>1</td>\n",
       "      <td>7</td>\n",
       "      <td>49</td>\n",
       "      <td>2</td>\n",
       "      <td>2</td>\n",
       "      <td>3</td>\n",
       "    </tr>\n",
       "    <tr>\n",
       "      <th>1</th>\n",
       "      <td>6178f41ade1365e44bc2c46654c2c8c0eaae27dcb476c4...</td>\n",
       "      <td>17</td>\n",
       "      <td>3</td>\n",
       "      <td>5</td>\n",
       "      <td>21</td>\n",
       "      <td>5</td>\n",
       "      <td>1.463014</td>\n",
       "      <td>0</td>\n",
       "      <td>1</td>\n",
       "      <td>6812</td>\n",
       "      <td>...</td>\n",
       "      <td>17</td>\n",
       "      <td>3</td>\n",
       "      <td>1</td>\n",
       "      <td>9.0</td>\n",
       "      <td>2</td>\n",
       "      <td>5</td>\n",
       "      <td>70</td>\n",
       "      <td>2</td>\n",
       "      <td>10</td>\n",
       "      <td>11</td>\n",
       "    </tr>\n",
       "    <tr>\n",
       "      <th>2</th>\n",
       "      <td>4a7e5069a397f12fdd7fd57111d6dc5d3ba558958efc02...</td>\n",
       "      <td>17</td>\n",
       "      <td>1</td>\n",
       "      <td>5</td>\n",
       "      <td>32</td>\n",
       "      <td>5</td>\n",
       "      <td>7.093151</td>\n",
       "      <td>3</td>\n",
       "      <td>1</td>\n",
       "      <td>4784</td>\n",
       "      <td>...</td>\n",
       "      <td>3</td>\n",
       "      <td>1</td>\n",
       "      <td>0</td>\n",
       "      <td>26.0</td>\n",
       "      <td>3</td>\n",
       "      <td>3</td>\n",
       "      <td>44</td>\n",
       "      <td>2</td>\n",
       "      <td>1</td>\n",
       "      <td>2</td>\n",
       "    </tr>\n",
       "    <tr>\n",
       "      <th>3</th>\n",
       "      <td>3348900fe63216a439d2e5238c79ddd46ede454df7b9d8...</td>\n",
       "      <td>17</td>\n",
       "      <td>1</td>\n",
       "      <td>5</td>\n",
       "      <td>25</td>\n",
       "      <td>5</td>\n",
       "      <td>6.512329</td>\n",
       "      <td>3</td>\n",
       "      <td>0</td>\n",
       "      <td>4995</td>\n",
       "      <td>...</td>\n",
       "      <td>3</td>\n",
       "      <td>1</td>\n",
       "      <td>0</td>\n",
       "      <td>26.0</td>\n",
       "      <td>3</td>\n",
       "      <td>3</td>\n",
       "      <td>44</td>\n",
       "      <td>2</td>\n",
       "      <td>10</td>\n",
       "      <td>11</td>\n",
       "    </tr>\n",
       "    <tr>\n",
       "      <th>4</th>\n",
       "      <td>1f9bcabc9d3173c1fe769899e4fac14b053037b953a1e4...</td>\n",
       "      <td>17</td>\n",
       "      <td>4</td>\n",
       "      <td>5</td>\n",
       "      <td>27</td>\n",
       "      <td>5</td>\n",
       "      <td>3.200000</td>\n",
       "      <td>0</td>\n",
       "      <td>0</td>\n",
       "      <td>6184</td>\n",
       "      <td>...</td>\n",
       "      <td>20</td>\n",
       "      <td>5</td>\n",
       "      <td>0</td>\n",
       "      <td>27.0</td>\n",
       "      <td>1</td>\n",
       "      <td>7</td>\n",
       "      <td>49</td>\n",
       "      <td>2</td>\n",
       "      <td>10</td>\n",
       "      <td>11</td>\n",
       "    </tr>\n",
       "  </tbody>\n",
       "</table>\n",
       "<p>5 rows × 27 columns</p>\n",
       "</div>"
      ],
      "text/plain": [
       "                                                  id  de_natureza_juridica  \\\n",
       "0  a6984c3ae395090e3bee8ad63c3758b110de096d5d8195...                    60   \n",
       "1  6178f41ade1365e44bc2c46654c2c8c0eaae27dcb476c4...                    17   \n",
       "2  4a7e5069a397f12fdd7fd57111d6dc5d3ba558958efc02...                    17   \n",
       "3  3348900fe63216a439d2e5238c79ddd46ede454df7b9d8...                    17   \n",
       "4  1f9bcabc9d3173c1fe769899e4fac14b053037b953a1e4...                    17   \n",
       "\n",
       "   sg_uf  natureza_juridica_macro  de_ramo  setor  idade_empresa_anos  \\\n",
       "0      4                        2       11      3           14.457534   \n",
       "1      3                        5       21      5            1.463014   \n",
       "2      1                        5       32      5            7.093151   \n",
       "3      1                        5       25      5            6.512329   \n",
       "4      4                        5       27      5            3.200000   \n",
       "\n",
       "   idade_emp_cat  fl_mei  dt_situacao  ...  sg_uf_matriz  de_saude_tributaria  \\\n",
       "0              1       0         2710  ...            20                    5   \n",
       "1              0       1         6812  ...            17                    3   \n",
       "2              3       1         4784  ...             3                    1   \n",
       "3              3       0         4995  ...             3                    1   \n",
       "4              0       0         6184  ...            20                    5   \n",
       "\n",
       "   de_saude_rescencia  nu_meses_rescencia  de_nivel_atividade  nm_meso_regiao  \\\n",
       "0                   0                23.0                   1               7   \n",
       "1                   1                 9.0                   2               5   \n",
       "2                   0                26.0                   3               3   \n",
       "3                   0                26.0                   3               3   \n",
       "4                   0                27.0                   1               7   \n",
       "\n",
       "   nm_micro_regiao  fl_passivel_iss  de_faixa_faturamento_estimado  \\\n",
       "0               49                2                              2   \n",
       "1               70                2                             10   \n",
       "2               44                2                              1   \n",
       "3               44                2                             10   \n",
       "4               49                2                             10   \n",
       "\n",
       "   de_faixa_faturamento_estimado_grupo  \n",
       "0                                    3  \n",
       "1                                   11  \n",
       "2                                    2  \n",
       "3                                   11  \n",
       "4                                   11  \n",
       "\n",
       "[5 rows x 27 columns]"
      ]
     },
     "execution_count": 14,
     "metadata": {},
     "output_type": "execute_result"
    }
   ],
   "source": [
    "data_labeled.head()"
   ]
  },
  {
   "cell_type": "markdown",
   "metadata": {},
   "source": [
    "\n"
   ]
  },
  {
   "cell_type": "markdown",
   "metadata": {},
   "source": [
    "# Scaler"
   ]
  },
  {
   "cell_type": "code",
   "execution_count": 15,
   "metadata": {},
   "outputs": [
    {
     "data": {
      "text/plain": [
       "array([[<matplotlib.axes._subplots.AxesSubplot object at 0x7f762ca62048>,\n",
       "        <matplotlib.axes._subplots.AxesSubplot object at 0x7f76310100f0>,\n",
       "        <matplotlib.axes._subplots.AxesSubplot object at 0x7f7631033668>,\n",
       "        <matplotlib.axes._subplots.AxesSubplot object at 0x7f7630fd4be0>,\n",
       "        <matplotlib.axes._subplots.AxesSubplot object at 0x7f7630f7a198>],\n",
       "       [<matplotlib.axes._subplots.AxesSubplot object at 0x7f7630f98710>,\n",
       "        <matplotlib.axes._subplots.AxesSubplot object at 0x7f7630f39c88>,\n",
       "        <matplotlib.axes._subplots.AxesSubplot object at 0x7f7630f5d278>,\n",
       "        <matplotlib.axes._subplots.AxesSubplot object at 0x7f7630f5d2b0>,\n",
       "        <matplotlib.axes._subplots.AxesSubplot object at 0x7f7630f1ed30>],\n",
       "       [<matplotlib.axes._subplots.AxesSubplot object at 0x7f7630ec52e8>,\n",
       "        <matplotlib.axes._subplots.AxesSubplot object at 0x7f7630ee6860>,\n",
       "        <matplotlib.axes._subplots.AxesSubplot object at 0x7f7630e86dd8>,\n",
       "        <matplotlib.axes._subplots.AxesSubplot object at 0x7f7630eaa390>,\n",
       "        <matplotlib.axes._subplots.AxesSubplot object at 0x7f7630e49908>],\n",
       "       [<matplotlib.axes._subplots.AxesSubplot object at 0x7f7630e68e80>,\n",
       "        <matplotlib.axes._subplots.AxesSubplot object at 0x7f7630e10438>,\n",
       "        <matplotlib.axes._subplots.AxesSubplot object at 0x7f7630e2d9b0>,\n",
       "        <matplotlib.axes._subplots.AxesSubplot object at 0x7f7630dcff28>,\n",
       "        <matplotlib.axes._subplots.AxesSubplot object at 0x7f7630df44e0>],\n",
       "       [<matplotlib.axes._subplots.AxesSubplot object at 0x7f7630d95a58>,\n",
       "        <matplotlib.axes._subplots.AxesSubplot object at 0x7f7630db3fd0>,\n",
       "        <matplotlib.axes._subplots.AxesSubplot object at 0x7f7630d5a588>,\n",
       "        <matplotlib.axes._subplots.AxesSubplot object at 0x7f7630cfab00>,\n",
       "        <matplotlib.axes._subplots.AxesSubplot object at 0x7f7630d200b8>],\n",
       "       [<matplotlib.axes._subplots.AxesSubplot object at 0x7f7630cbf630>,\n",
       "        <matplotlib.axes._subplots.AxesSubplot object at 0x7f7630ce6ba8>,\n",
       "        <matplotlib.axes._subplots.AxesSubplot object at 0x7f7630c95160>,\n",
       "        <matplotlib.axes._subplots.AxesSubplot object at 0x7f7630c3e6d8>,\n",
       "        <matplotlib.axes._subplots.AxesSubplot object at 0x7f7630c67c50>]],\n",
       "      dtype=object)"
      ]
     },
     "execution_count": 15,
     "metadata": {},
     "output_type": "execute_result"
    },
    {
     "data": {
      "image/png": "[encoded data removed]",
      "text/plain": [
       "<Figure size 432x288 with 30 Axes>"
      ]
     },
     "metadata": {
      "needs_background": "light"
     },
     "output_type": "display_data"
    }
   ],
   "source": [
    "%matplotlib inline \n",
    "\n",
    "data_labeled.hist()"
   ]
  },
  {
   "cell_type": "markdown",
   "metadata": {},
   "source": [
    "## MinMax Scaler\n",
    "Devido a distribuição dos valores, usaremos o MinMaxScaler"
   ]
  },
  {
   "cell_type": "code",
   "execution_count": 16,
   "metadata": {},
   "outputs": [],
   "source": [
    "from sklearn.preprocessing import MinMaxScaler"
   ]
  },
  {
   "cell_type": "code",
   "execution_count": 17,
   "metadata": {},
   "outputs": [],
   "source": [
    "scaler = MinMaxScaler()"
   ]
  },
  {
   "cell_type": "code",
   "execution_count": 18,
   "metadata": {},
   "outputs": [
    {
     "name": "stderr",
     "output_type": "stream",
     "text": [
      "/home/igor/anaconda3/lib/python3.7/site-packages/sklearn/preprocessing/data.py:334: DataConversionWarning: Data with input dtype int64, float64 were all converted to float64 by MinMaxScaler.\n",
      "  return self.partial_fit(X, y)\n"
     ]
    }
   ],
   "source": [
    "features_scaler = ['de_natureza_juridica', 'sg_uf', 'natureza_juridica_macro',\n",
    "       'de_ramo', 'setor', 'idade_empresa_anos', 'idade_emp_cat', 'fl_mei',\n",
    "       'dt_situacao', 'fl_email', 'fl_telefone', 'fl_rm', 'nm_divisao',\n",
    "       'nm_segmento', 'fl_optante_simples', 'fl_optante_simei', 'sg_uf_matriz',\n",
    "       'de_saude_tributaria', 'de_saude_rescencia', 'nu_meses_rescencia',\n",
    "       'de_nivel_atividade', 'nm_meso_regiao', 'nm_micro_regiao',\n",
    "       'fl_passivel_iss', 'de_faixa_faturamento_estimado',\n",
    "       'de_faixa_faturamento_estimado_grupo']\n",
    "\n",
    "data_scaler = data_labeled.copy()\n",
    "data_scaler[features_scaler] = scaler.fit_transform(data_labeled[features_scaler])"
   ]
  },
  {
   "cell_type": "code",
   "execution_count": 19,
   "metadata": {},
   "outputs": [
    {
     "data": {
      "text/html": [
       "<div>\n",
       "<style scoped>\n",
       "    .dataframe tbody tr th:only-of-type {\n",
       "        vertical-align: middle;\n",
       "    }\n",
       "\n",
       "    .dataframe tbody tr th {\n",
       "        vertical-align: top;\n",
       "    }\n",
       "\n",
       "    .dataframe thead th {\n",
       "        text-align: right;\n",
       "    }\n",
       "</style>\n",
       "<table border=\"1\" class=\"dataframe\">\n",
       "  <thead>\n",
       "    <tr style=\"text-align: right;\">\n",
       "      <th></th>\n",
       "      <th>id</th>\n",
       "      <th>de_natureza_juridica</th>\n",
       "      <th>sg_uf</th>\n",
       "      <th>natureza_juridica_macro</th>\n",
       "      <th>de_ramo</th>\n",
       "      <th>setor</th>\n",
       "      <th>idade_empresa_anos</th>\n",
       "      <th>idade_emp_cat</th>\n",
       "      <th>fl_mei</th>\n",
       "      <th>dt_situacao</th>\n",
       "      <th>...</th>\n",
       "      <th>sg_uf_matriz</th>\n",
       "      <th>de_saude_tributaria</th>\n",
       "      <th>de_saude_rescencia</th>\n",
       "      <th>nu_meses_rescencia</th>\n",
       "      <th>de_nivel_atividade</th>\n",
       "      <th>nm_meso_regiao</th>\n",
       "      <th>nm_micro_regiao</th>\n",
       "      <th>fl_passivel_iss</th>\n",
       "      <th>de_faixa_faturamento_estimado</th>\n",
       "      <th>de_faixa_faturamento_estimado_grupo</th>\n",
       "    </tr>\n",
       "  </thead>\n",
       "  <tbody>\n",
       "    <tr>\n",
       "      <th>0</th>\n",
       "      <td>a6984c3ae395090e3bee8ad63c3758b110de096d5d8195...</td>\n",
       "      <td>0.909091</td>\n",
       "      <td>0.8</td>\n",
       "      <td>0.333333</td>\n",
       "      <td>0.34375</td>\n",
       "      <td>0.6</td>\n",
       "      <td>0.135704</td>\n",
       "      <td>0.2</td>\n",
       "      <td>0.0</td>\n",
       "      <td>0.369512</td>\n",
       "      <td>...</td>\n",
       "      <td>0.740741</td>\n",
       "      <td>0.833333</td>\n",
       "      <td>0.00</td>\n",
       "      <td>0.348485</td>\n",
       "      <td>0.25</td>\n",
       "      <td>0.368421</td>\n",
       "      <td>0.671233</td>\n",
       "      <td>1.0</td>\n",
       "      <td>0.181818</td>\n",
       "      <td>0.272727</td>\n",
       "    </tr>\n",
       "    <tr>\n",
       "      <th>1</th>\n",
       "      <td>6178f41ade1365e44bc2c46654c2c8c0eaae27dcb476c4...</td>\n",
       "      <td>0.257576</td>\n",
       "      <td>0.6</td>\n",
       "      <td>0.833333</td>\n",
       "      <td>0.65625</td>\n",
       "      <td>1.0</td>\n",
       "      <td>0.013594</td>\n",
       "      <td>0.0</td>\n",
       "      <td>1.0</td>\n",
       "      <td>0.928825</td>\n",
       "      <td>...</td>\n",
       "      <td>0.629630</td>\n",
       "      <td>0.500000</td>\n",
       "      <td>0.25</td>\n",
       "      <td>0.136364</td>\n",
       "      <td>0.50</td>\n",
       "      <td>0.263158</td>\n",
       "      <td>0.958904</td>\n",
       "      <td>1.0</td>\n",
       "      <td>0.909091</td>\n",
       "      <td>1.000000</td>\n",
       "    </tr>\n",
       "    <tr>\n",
       "      <th>2</th>\n",
       "      <td>4a7e5069a397f12fdd7fd57111d6dc5d3ba558958efc02...</td>\n",
       "      <td>0.257576</td>\n",
       "      <td>0.2</td>\n",
       "      <td>0.833333</td>\n",
       "      <td>1.00000</td>\n",
       "      <td>1.0</td>\n",
       "      <td>0.066500</td>\n",
       "      <td>0.6</td>\n",
       "      <td>1.0</td>\n",
       "      <td>0.652304</td>\n",
       "      <td>...</td>\n",
       "      <td>0.111111</td>\n",
       "      <td>0.166667</td>\n",
       "      <td>0.00</td>\n",
       "      <td>0.393939</td>\n",
       "      <td>0.75</td>\n",
       "      <td>0.157895</td>\n",
       "      <td>0.602740</td>\n",
       "      <td>1.0</td>\n",
       "      <td>0.090909</td>\n",
       "      <td>0.181818</td>\n",
       "    </tr>\n",
       "    <tr>\n",
       "      <th>3</th>\n",
       "      <td>3348900fe63216a439d2e5238c79ddd46ede454df7b9d8...</td>\n",
       "      <td>0.257576</td>\n",
       "      <td>0.2</td>\n",
       "      <td>0.833333</td>\n",
       "      <td>0.78125</td>\n",
       "      <td>1.0</td>\n",
       "      <td>0.061042</td>\n",
       "      <td>0.6</td>\n",
       "      <td>0.0</td>\n",
       "      <td>0.681074</td>\n",
       "      <td>...</td>\n",
       "      <td>0.111111</td>\n",
       "      <td>0.166667</td>\n",
       "      <td>0.00</td>\n",
       "      <td>0.393939</td>\n",
       "      <td>0.75</td>\n",
       "      <td>0.157895</td>\n",
       "      <td>0.602740</td>\n",
       "      <td>1.0</td>\n",
       "      <td>0.909091</td>\n",
       "      <td>1.000000</td>\n",
       "    </tr>\n",
       "    <tr>\n",
       "      <th>4</th>\n",
       "      <td>1f9bcabc9d3173c1fe769899e4fac14b053037b953a1e4...</td>\n",
       "      <td>0.257576</td>\n",
       "      <td>0.8</td>\n",
       "      <td>0.833333</td>\n",
       "      <td>0.84375</td>\n",
       "      <td>1.0</td>\n",
       "      <td>0.029916</td>\n",
       "      <td>0.0</td>\n",
       "      <td>0.0</td>\n",
       "      <td>0.843196</td>\n",
       "      <td>...</td>\n",
       "      <td>0.740741</td>\n",
       "      <td>0.833333</td>\n",
       "      <td>0.00</td>\n",
       "      <td>0.409091</td>\n",
       "      <td>0.25</td>\n",
       "      <td>0.368421</td>\n",
       "      <td>0.671233</td>\n",
       "      <td>1.0</td>\n",
       "      <td>0.909091</td>\n",
       "      <td>1.000000</td>\n",
       "    </tr>\n",
       "  </tbody>\n",
       "</table>\n",
       "<p>5 rows × 27 columns</p>\n",
       "</div>"
      ],
      "text/plain": [
       "                                                  id  de_natureza_juridica  \\\n",
       "0  a6984c3ae395090e3bee8ad63c3758b110de096d5d8195...              0.909091   \n",
       "1  6178f41ade1365e44bc2c46654c2c8c0eaae27dcb476c4...              0.257576   \n",
       "2  4a7e5069a397f12fdd7fd57111d6dc5d3ba558958efc02...              0.257576   \n",
       "3  3348900fe63216a439d2e5238c79ddd46ede454df7b9d8...              0.257576   \n",
       "4  1f9bcabc9d3173c1fe769899e4fac14b053037b953a1e4...              0.257576   \n",
       "\n",
       "   sg_uf  natureza_juridica_macro  de_ramo  setor  idade_empresa_anos  \\\n",
       "0    0.8                 0.333333  0.34375    0.6            0.135704   \n",
       "1    0.6                 0.833333  0.65625    1.0            0.013594   \n",
       "2    0.2                 0.833333  1.00000    1.0            0.066500   \n",
       "3    0.2                 0.833333  0.78125    1.0            0.061042   \n",
       "4    0.8                 0.833333  0.84375    1.0            0.029916   \n",
       "\n",
       "   idade_emp_cat  fl_mei  dt_situacao  ...  sg_uf_matriz  de_saude_tributaria  \\\n",
       "0            0.2     0.0     0.369512  ...      0.740741             0.833333   \n",
       "1            0.0     1.0     0.928825  ...      0.629630             0.500000   \n",
       "2            0.6     1.0     0.652304  ...      0.111111             0.166667   \n",
       "3            0.6     0.0     0.681074  ...      0.111111             0.166667   \n",
       "4            0.0     0.0     0.843196  ...      0.740741             0.833333   \n",
       "\n",
       "   de_saude_rescencia  nu_meses_rescencia  de_nivel_atividade  nm_meso_regiao  \\\n",
       "0                0.00            0.348485                0.25        0.368421   \n",
       "1                0.25            0.136364                0.50        0.263158   \n",
       "2                0.00            0.393939                0.75        0.157895   \n",
       "3                0.00            0.393939                0.75        0.157895   \n",
       "4                0.00            0.409091                0.25        0.368421   \n",
       "\n",
       "   nm_micro_regiao  fl_passivel_iss  de_faixa_faturamento_estimado  \\\n",
       "0         0.671233              1.0                       0.181818   \n",
       "1         0.958904              1.0                       0.909091   \n",
       "2         0.602740              1.0                       0.090909   \n",
       "3         0.602740              1.0                       0.909091   \n",
       "4         0.671233              1.0                       0.909091   \n",
       "\n",
       "   de_faixa_faturamento_estimado_grupo  \n",
       "0                             0.272727  \n",
       "1                             1.000000  \n",
       "2                             0.181818  \n",
       "3                             1.000000  \n",
       "4                             1.000000  \n",
       "\n",
       "[5 rows x 27 columns]"
      ]
     },
     "execution_count": 19,
     "metadata": {},
     "output_type": "execute_result"
    }
   ],
   "source": [
    "data_scaler.head()"
   ]
  },
  {
   "cell_type": "markdown",
   "metadata": {},
   "source": [
    "# Modelo de predição"
   ]
  },
  {
   "cell_type": "code",
   "execution_count": 20,
   "metadata": {},
   "outputs": [],
   "source": [
    "from sklearn.metrics.pairwise import cosine_similarity"
   ]
  },
  {
   "cell_type": "code",
   "execution_count": 21,
   "metadata": {},
   "outputs": [],
   "source": [
    "# Get recommendations\n",
    "def get_recommendations(target, market, nRecomendations = 1000):\n",
    "    '''\n",
    "    Recomendação de acordo com uma amostra\n",
    "    \n",
    "    target -- amostras de entrada\n",
    "    market -- mercado que serão buscadas as amostras similares\n",
    "    nRecomendations --numero de recomendações para o portifolio\n",
    "    \n",
    "    Return:\n",
    "        Ids\n",
    "        Scores de similaridades\n",
    "    '''\n",
    "    titles = market['id']\n",
    "    cosine_sim = cosine_similarity(target[features_scaler], market[features_scaler])\n",
    "    #print(pd.DataFrame(cosine_sim).head())\n",
    "    #print(cosine_sim.shape, type(cosine_sim[0]))\n",
    "    cosine_sim = np.sum(cosine_sim, axis=0)\n",
    "    cosine_sim = np.reshape(cosine_sim, (1,cosine_sim.shape[0]))\n",
    "    #print(cosine_sim.shape, type(cosine_sim[0]))\n",
    "    sim_scores = list(enumerate(cosine_sim[0]))\n",
    "    sim_scores = sorted(sim_scores, key=lambda x: x[1], reverse=True)\n",
    "    all_scores = np.array(sim_scores[:]) # All cosine distances id x market\n",
    "    sim_scores = np.array(sim_scores[:nRecomendations]) # Number of recomendations per id\n",
    "    #return titles.iloc[sim_scores[:,0]], sim_scores[:,1]\n",
    "    t = pd.concat([titles.iloc[sim_scores[:,0]].to_frame().reset_index(), pd.DataFrame(sim_scores[:,1])],axis=1 ,ignore_index=False)\n",
    "    return t"
   ]
  },
  {
   "cell_type": "markdown",
   "metadata": {},
   "source": [
    "# Métrica\n",
    "\n"
   ]
  },
  {
   "cell_type": "code",
   "execution_count": 22,
   "metadata": {},
   "outputs": [],
   "source": [
    "\n",
    "def extractPortfolio(market, portfolio):\n",
    "    '''\n",
    "    Retira as amostras do portifolio do mercado\n",
    "    \n",
    "    Return:\n",
    "        Mercado sem portfolio\n",
    "        Portifolio\n",
    "    '''\n",
    "    portfolio_id = portfolio.id\n",
    "    port = market[market.id.isin( portfolio_id.values)]\n",
    "    market_new =  market.drop(market[market.id.isin(portfolio_id.values)].index)\n",
    "    return market_new , port"
   ]
  },
  {
   "cell_type": "code",
   "execution_count": 23,
   "metadata": {},
   "outputs": [],
   "source": [
    "def check_result(result, test):\n",
    "    '''\n",
    "    Verifica quantos ovalores esperados (test) estão na resposta dada pelo modelo (result)\n",
    "    \n",
    "    result - resultado do modelo de predição\n",
    "    test - respostas esperadas\n",
    "    \n",
    "    Retorno:\n",
    "        numeto de amostras de testes no resultado\n",
    "        razão de amostras de testes no resultado sobre o numero de amostras testes\n",
    "    '''\n",
    "    r = result.id.isin(test.id)\n",
    "    return r.sum() , r.sum()/test.shape[0]\n",
    "    "
   ]
  },
  {
   "cell_type": "markdown",
   "metadata": {},
   "source": [
    "### Ideia\n",
    "\n",
    "seeds = [ 123, 345, 321, 1324, 45, 9, 86] #seeds fixas para ter sempre a mesma métrica\n",
    "\n",
    "for s in seeds:\n",
    "    fora , dentro , _, _ = train_test_split(port, port, test_size=0.33, random_state=s)\n",
    "\n",
    "    m, p = extractPortfolio(market, dentro)\n",
    "\n",
    "    result = get_recommendations(m, p) # get recomendation com portfolio e mercado separados\n",
    "\n",
    "    overlap_rec = check(result, fora) # verifica se as amostras  que n foram usadas, foram listadas no resultado\n",
    "    metrics.append(overlap_rec)\n",
    "\n",
    "\n",
    "metric = metrics.mean() #gerar isso para todos os portfolios"
   ]
  },
  {
   "cell_type": "code",
   "execution_count": 24,
   "metadata": {},
   "outputs": [],
   "source": [
    "from sklearn.model_selection import train_test_split\n",
    "\n",
    "def calc_metric(portfolio, market):\n",
    "    seeds = [ 123, 345, 321, 1324, 45, 9, 86 ]\n",
    "    #seeds = [0 ]\n",
    "    \n",
    "    metrics = []\n",
    "    ratios = []\n",
    "    for s in seeds:\n",
    "        print(\"teste\", s)\n",
    "        \n",
    "        train , test , _, _ = train_test_split(portfolio, portfolio, test_size=0.33, random_state=s)\n",
    "        #print('train_test', train.shape, test.shape)\n",
    "        \n",
    "        new_market, port = extractPortfolio(market, train)\n",
    "        #print('extractPortfolio', new_market.shape, port.shape)\n",
    "        \n",
    "        #print(new_market.head())\n",
    "        #print(port.head())\n",
    "        \n",
    "        ## unir o recomendations de cada amostra do port\n",
    "        result = get_recommendations(port, new_market, round(new_market.shape[0]/2)) # test, em quantidade, a metade do mercado todo\n",
    "        \n",
    "        #checa qnts de test estão no result\n",
    "        overlap, ratio = check_result(result, test) #implemnetar\n",
    "        print('results:', overlap, ratio)\n",
    "        metrics.append(overlap)\n",
    "        ratios.append(ratio)\n",
    "    \n",
    "    return sum(metrics)/len(metrics),  sum(ratios)/len(ratios)"
   ]
  },
  {
   "cell_type": "markdown",
   "metadata": {},
   "source": [
    "## TESTE"
   ]
  },
  {
   "cell_type": "code",
   "execution_count": 25,
   "metadata": {},
   "outputs": [],
   "source": [
    "port1 = pd.read_csv('estaticos_portfolio1.csv')\n",
    "port2 = pd.read_csv('estaticos_portfolio2.csv')\n",
    "port3 = pd.read_csv('estaticos_portfolio3.csv')"
   ]
  },
  {
   "cell_type": "code",
   "execution_count": 26,
   "metadata": {},
   "outputs": [
    {
     "name": "stdout",
     "output_type": "stream",
     "text": [
      "market (462298, 27)\n",
      "port1 (555, 182)\n",
      "port2 (566, 2)\n",
      "port3 (265, 2)\n"
     ]
    }
   ],
   "source": [
    "print('market', data_scaler.shape)\n",
    "print('port1',port1.shape)\n",
    "print('port2',port2.shape)\n",
    "print('port3',port3.shape)"
   ]
  },
  {
   "cell_type": "code",
   "execution_count": 27,
   "metadata": {},
   "outputs": [
    {
     "name": "stdout",
     "output_type": "stream",
     "text": [
      "teste 123\n",
      "results: 103 0.5597826086956522\n",
      "teste 345\n",
      "results: 109 0.592391304347826\n",
      "teste 321\n",
      "results: 117 0.6358695652173914\n",
      "teste 1324\n",
      "results: 110 0.5978260869565217\n",
      "teste 45\n",
      "results: 119 0.6467391304347826\n",
      "teste 9\n",
      "results: 121 0.657608695652174\n",
      "teste 86\n",
      "results: 118 0.6413043478260869\n",
      "metric 113.85714285714286 0.6187888198757765\n"
     ]
    }
   ],
   "source": [
    "a, b = calc_metric(port1, data_scaler)\n",
    "print('metric', a, b)"
   ]
  },
  {
   "cell_type": "code",
   "execution_count": 33,
   "metadata": {},
   "outputs": [
    {
     "name": "stdout",
     "output_type": "stream",
     "text": [
      "teste 123\n",
      "results: 179 0.9572192513368984\n",
      "teste 345\n",
      "results: 182 0.9732620320855615\n",
      "teste 321\n",
      "results: 182 0.9732620320855615\n",
      "teste 1324\n",
      "results: 181 0.9679144385026738\n",
      "teste 45\n",
      "results: 183 0.9786096256684492\n",
      "teste 9\n",
      "results: 184 0.983957219251337\n",
      "teste 86\n",
      "results: 183 0.9786096256684492\n",
      "metric 182.0 0.9732620320855616\n"
     ]
    }
   ],
   "source": [
    "a, b = calc_metric(port2, data_scaler)\n",
    "print('metric', a, b)"
   ]
  },
  {
   "cell_type": "code",
   "execution_count": 34,
   "metadata": {},
   "outputs": [
    {
     "name": "stdout",
     "output_type": "stream",
     "text": [
      "teste 123\n",
      "results: 87 0.9886363636363636\n",
      "teste 345\n",
      "results: 87 0.9886363636363636\n",
      "teste 321\n",
      "results: 87 0.9886363636363636\n",
      "teste 1324\n",
      "results: 88 1.0\n",
      "teste 45\n",
      "results: 88 1.0\n",
      "teste 9\n",
      "results: 88 1.0\n",
      "teste 86\n",
      "results: 86 0.9772727272727273\n",
      "metric 87.28571428571429 0.9918831168831169\n"
     ]
    }
   ],
   "source": [
    "a, b = calc_metric(port3, data_scaler)\n",
    "print('metric', a, b)"
   ]
  },
  {
   "cell_type": "markdown",
   "metadata": {},
   "source": [
    "# Rascunho"
   ]
  },
  {
   "cell_type": "code",
   "execution_count": 28,
   "metadata": {},
   "outputs": [],
   "source": [
    "#a = get_recommendations(data_scaler[data_scaler.id.isin(port1.id[:1])] , data_scaler)\n",
    "a = get_recommendations(data_scaler[data_scaler.id.isin(port1.id)] , data_scaler, 1500)"
   ]
  },
  {
   "cell_type": "code",
   "execution_count": 29,
   "metadata": {},
   "outputs": [
    {
     "name": "stdout",
     "output_type": "stream",
     "text": [
      "(1500, 3)\n",
      "    index                                                 id           0\n",
      "0  422764  bc82294a7954c95b54b8001e2c4485617caf99b9078ed4...  459.030034\n",
      "1  183068  21da4dc994bb8eda319cc9d8a77107cf2802db3f143254...  457.612828\n",
      "2  300993  69a1ef2bc9f97856711d8b5af738de43bd8f4ff0810457...  457.045810\n",
      "3   44766  1c88b69a3ab0ae7fb6395099ee353f41d4c5e5f433ffff...  456.838886\n",
      "4  238252  63c370571d0e9573a15a534b0954445b082f379bd9a264...  456.484709\n"
     ]
    }
   ],
   "source": [
    "print(a.shape)\n",
    "print(a.head())"
   ]
  },
  {
   "cell_type": "code",
   "execution_count": 30,
   "metadata": {},
   "outputs": [
    {
     "data": {
      "text/plain": [
       "0    bc82294a7954c95b54b8001e2c4485617caf99b9078ed4...\n",
       "1    21da4dc994bb8eda319cc9d8a77107cf2802db3f143254...\n",
       "2    69a1ef2bc9f97856711d8b5af738de43bd8f4ff0810457...\n",
       "3    1c88b69a3ab0ae7fb6395099ee353f41d4c5e5f433ffff...\n",
       "4    63c370571d0e9573a15a534b0954445b082f379bd9a264...\n",
       "Name: id, dtype: object"
      ]
     },
     "execution_count": 30,
     "metadata": {},
     "output_type": "execute_result"
    }
   ],
   "source": [
    "a.id.head()"
   ]
  },
  {
   "cell_type": "code",
   "execution_count": 31,
   "metadata": {},
   "outputs": [
    {
     "data": {
      "text/plain": [
       "1"
      ]
     },
     "execution_count": 31,
     "metadata": {},
     "output_type": "execute_result"
    }
   ],
   "source": [
    "a.id.isin(port1.id).sum()"
   ]
  },
  {
   "cell_type": "code",
   "execution_count": 32,
   "metadata": {},
   "outputs": [
    {
     "data": {
      "text/plain": [
       "(1, 0.0018018018018018018)"
      ]
     },
     "execution_count": 32,
     "metadata": {},
     "output_type": "execute_result"
    }
   ],
   "source": [
    "check_result(a, port1)"
   ]
  },
  {
   "cell_type": "code",
   "execution_count": null,
   "metadata": {},
   "outputs": [],
   "source": []
  }
 ],
 "metadata": {
  "kernelspec": {
   "display_name": "Python 3",
   "language": "python",
   "name": "python3"
  },
  "language_info": {
   "codemirror_mode": {
    "name": "ipython",
    "version": 3
   },
   "file_extension": ".py",
   "mimetype": "text/x-python",
   "name": "python",
   "nbconvert_exporter": "python",
   "pygments_lexer": "ipython3",
   "version": "3.7.3"
  }
 },
 "nbformat": 4,
 "nbformat_minor": 2
}
