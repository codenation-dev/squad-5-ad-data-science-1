{
 "cells": [
  {
   "cell_type": "markdown",
   "metadata": {},
   "source": [
    "# Projeto Final\n",
    "\n",
    "Utilizando as features selecionadas anteriormente.\n",
    "O notebook visa definir uma métrica para, a partir dela, continuar evoluindo o sistema de recomendaçoes\n"
   ]
  },
  {
   "cell_type": "markdown",
   "metadata": {},
   "source": [
    "## Seleção e tratamento dos dados \n"
   ]
  },
  {
   "cell_type": "code",
   "execution_count": 28,
   "metadata": {},
   "outputs": [],
   "source": [
    "import numpy as np\n",
    "import pandas as pd\n",
    "from sklearn import preprocessing"
   ]
  },
  {
   "cell_type": "code",
   "execution_count": 29,
   "metadata": {},
   "outputs": [
    {
     "data": {
      "text/html": [
       "<div>\n",
       "<style scoped>\n",
       "    .dataframe tbody tr th:only-of-type {\n",
       "        vertical-align: middle;\n",
       "    }\n",
       "\n",
       "    .dataframe tbody tr th {\n",
       "        vertical-align: top;\n",
       "    }\n",
       "\n",
       "    .dataframe thead th {\n",
       "        text-align: right;\n",
       "    }\n",
       "</style>\n",
       "<table border=\"1\" class=\"dataframe\">\n",
       "  <thead>\n",
       "    <tr style=\"text-align: right;\">\n",
       "      <th></th>\n",
       "      <th>Unnamed: 0</th>\n",
       "      <th>id</th>\n",
       "      <th>fl_matriz</th>\n",
       "      <th>de_natureza_juridica</th>\n",
       "      <th>sg_uf</th>\n",
       "      <th>natureza_juridica_macro</th>\n",
       "      <th>de_ramo</th>\n",
       "      <th>setor</th>\n",
       "      <th>idade_empresa_anos</th>\n",
       "      <th>idade_emp_cat</th>\n",
       "      <th>...</th>\n",
       "      <th>media_meses_servicos</th>\n",
       "      <th>max_meses_servicos</th>\n",
       "      <th>min_meses_servicos</th>\n",
       "      <th>qt_funcionarios</th>\n",
       "      <th>qt_funcionarios_12meses</th>\n",
       "      <th>qt_funcionarios_24meses</th>\n",
       "      <th>tx_crescimento_12meses</th>\n",
       "      <th>tx_crescimento_24meses</th>\n",
       "      <th>tx_rotatividade</th>\n",
       "      <th>qt_filiais</th>\n",
       "    </tr>\n",
       "  </thead>\n",
       "  <tbody>\n",
       "    <tr>\n",
       "      <th>0</th>\n",
       "      <td>0</td>\n",
       "      <td>a6984c3ae395090e3bee8ad63c3758b110de096d5d8195...</td>\n",
       "      <td>True</td>\n",
       "      <td>SOCIEDADE EMPRESARIA LIMITADA</td>\n",
       "      <td>RN</td>\n",
       "      <td>ENTIDADES EMPRESARIAIS</td>\n",
       "      <td>INDUSTRIA DA CONSTRUCAO</td>\n",
       "      <td>CONSTRUÇÃO CIVIL</td>\n",
       "      <td>14.457534</td>\n",
       "      <td>10 a 15</td>\n",
       "      <td>...</td>\n",
       "      <td>43.738462</td>\n",
       "      <td>93.266667</td>\n",
       "      <td>19.166667</td>\n",
       "      <td>26.0</td>\n",
       "      <td>26.0</td>\n",
       "      <td>27.0</td>\n",
       "      <td>0.0</td>\n",
       "      <td>-3.703704</td>\n",
       "      <td>0.0</td>\n",
       "      <td>0</td>\n",
       "    </tr>\n",
       "    <tr>\n",
       "      <th>1</th>\n",
       "      <td>1</td>\n",
       "      <td>6178f41ade1365e44bc2c46654c2c8c0eaae27dcb476c4...</td>\n",
       "      <td>True</td>\n",
       "      <td>EMPRESARIO INDIVIDUAL</td>\n",
       "      <td>PI</td>\n",
       "      <td>OUTROS</td>\n",
       "      <td>SERVICOS DE ALOJAMENTO/ALIMENTACAO</td>\n",
       "      <td>SERVIÇO</td>\n",
       "      <td>1.463014</td>\n",
       "      <td>1 a 5</td>\n",
       "      <td>...</td>\n",
       "      <td>NaN</td>\n",
       "      <td>NaN</td>\n",
       "      <td>NaN</td>\n",
       "      <td>NaN</td>\n",
       "      <td>NaN</td>\n",
       "      <td>NaN</td>\n",
       "      <td>NaN</td>\n",
       "      <td>NaN</td>\n",
       "      <td>NaN</td>\n",
       "      <td>0</td>\n",
       "    </tr>\n",
       "    <tr>\n",
       "      <th>2</th>\n",
       "      <td>2</td>\n",
       "      <td>4a7e5069a397f12fdd7fd57111d6dc5d3ba558958efc02...</td>\n",
       "      <td>True</td>\n",
       "      <td>EMPRESARIO INDIVIDUAL</td>\n",
       "      <td>AM</td>\n",
       "      <td>OUTROS</td>\n",
       "      <td>TRANSPORTE, ARMAZENAGEM E CORREIO</td>\n",
       "      <td>SERVIÇO</td>\n",
       "      <td>7.093151</td>\n",
       "      <td>5 a 10</td>\n",
       "      <td>...</td>\n",
       "      <td>NaN</td>\n",
       "      <td>NaN</td>\n",
       "      <td>NaN</td>\n",
       "      <td>NaN</td>\n",
       "      <td>NaN</td>\n",
       "      <td>NaN</td>\n",
       "      <td>NaN</td>\n",
       "      <td>NaN</td>\n",
       "      <td>NaN</td>\n",
       "      <td>0</td>\n",
       "    </tr>\n",
       "    <tr>\n",
       "      <th>3</th>\n",
       "      <td>3</td>\n",
       "      <td>3348900fe63216a439d2e5238c79ddd46ede454df7b9d8...</td>\n",
       "      <td>True</td>\n",
       "      <td>EMPRESARIO INDIVIDUAL</td>\n",
       "      <td>AM</td>\n",
       "      <td>OUTROS</td>\n",
       "      <td>SERVICOS DIVERSOS</td>\n",
       "      <td>SERVIÇO</td>\n",
       "      <td>6.512329</td>\n",
       "      <td>5 a 10</td>\n",
       "      <td>...</td>\n",
       "      <td>NaN</td>\n",
       "      <td>NaN</td>\n",
       "      <td>NaN</td>\n",
       "      <td>NaN</td>\n",
       "      <td>NaN</td>\n",
       "      <td>NaN</td>\n",
       "      <td>NaN</td>\n",
       "      <td>NaN</td>\n",
       "      <td>NaN</td>\n",
       "      <td>0</td>\n",
       "    </tr>\n",
       "    <tr>\n",
       "      <th>4</th>\n",
       "      <td>4</td>\n",
       "      <td>1f9bcabc9d3173c1fe769899e4fac14b053037b953a1e4...</td>\n",
       "      <td>True</td>\n",
       "      <td>EMPRESARIO INDIVIDUAL</td>\n",
       "      <td>RN</td>\n",
       "      <td>OUTROS</td>\n",
       "      <td>SERVICOS PROFISSIONAIS, TECNICOS E CIENTIFICOS</td>\n",
       "      <td>SERVIÇO</td>\n",
       "      <td>3.200000</td>\n",
       "      <td>1 a 5</td>\n",
       "      <td>...</td>\n",
       "      <td>NaN</td>\n",
       "      <td>NaN</td>\n",
       "      <td>NaN</td>\n",
       "      <td>NaN</td>\n",
       "      <td>NaN</td>\n",
       "      <td>NaN</td>\n",
       "      <td>NaN</td>\n",
       "      <td>NaN</td>\n",
       "      <td>NaN</td>\n",
       "      <td>0</td>\n",
       "    </tr>\n",
       "  </tbody>\n",
       "</table>\n",
       "<p>5 rows × 182 columns</p>\n",
       "</div>"
      ],
      "text/plain": [
       "   Unnamed: 0                                                 id  fl_matriz  \\\n",
       "0           0  a6984c3ae395090e3bee8ad63c3758b110de096d5d8195...       True   \n",
       "1           1  6178f41ade1365e44bc2c46654c2c8c0eaae27dcb476c4...       True   \n",
       "2           2  4a7e5069a397f12fdd7fd57111d6dc5d3ba558958efc02...       True   \n",
       "3           3  3348900fe63216a439d2e5238c79ddd46ede454df7b9d8...       True   \n",
       "4           4  1f9bcabc9d3173c1fe769899e4fac14b053037b953a1e4...       True   \n",
       "\n",
       "            de_natureza_juridica sg_uf natureza_juridica_macro  \\\n",
       "0  SOCIEDADE EMPRESARIA LIMITADA    RN  ENTIDADES EMPRESARIAIS   \n",
       "1          EMPRESARIO INDIVIDUAL    PI                  OUTROS   \n",
       "2          EMPRESARIO INDIVIDUAL    AM                  OUTROS   \n",
       "3          EMPRESARIO INDIVIDUAL    AM                  OUTROS   \n",
       "4          EMPRESARIO INDIVIDUAL    RN                  OUTROS   \n",
       "\n",
       "                                          de_ramo             setor  \\\n",
       "0                         INDUSTRIA DA CONSTRUCAO  CONSTRUÇÃO CIVIL   \n",
       "1              SERVICOS DE ALOJAMENTO/ALIMENTACAO           SERVIÇO   \n",
       "2               TRANSPORTE, ARMAZENAGEM E CORREIO           SERVIÇO   \n",
       "3                               SERVICOS DIVERSOS           SERVIÇO   \n",
       "4  SERVICOS PROFISSIONAIS, TECNICOS E CIENTIFICOS           SERVIÇO   \n",
       "\n",
       "   idade_empresa_anos idade_emp_cat    ...      media_meses_servicos  \\\n",
       "0           14.457534       10 a 15    ...                 43.738462   \n",
       "1            1.463014         1 a 5    ...                       NaN   \n",
       "2            7.093151        5 a 10    ...                       NaN   \n",
       "3            6.512329        5 a 10    ...                       NaN   \n",
       "4            3.200000         1 a 5    ...                       NaN   \n",
       "\n",
       "   max_meses_servicos  min_meses_servicos  qt_funcionarios  \\\n",
       "0           93.266667           19.166667             26.0   \n",
       "1                 NaN                 NaN              NaN   \n",
       "2                 NaN                 NaN              NaN   \n",
       "3                 NaN                 NaN              NaN   \n",
       "4                 NaN                 NaN              NaN   \n",
       "\n",
       "   qt_funcionarios_12meses qt_funcionarios_24meses  tx_crescimento_12meses  \\\n",
       "0                     26.0                    27.0                     0.0   \n",
       "1                      NaN                     NaN                     NaN   \n",
       "2                      NaN                     NaN                     NaN   \n",
       "3                      NaN                     NaN                     NaN   \n",
       "4                      NaN                     NaN                     NaN   \n",
       "\n",
       "   tx_crescimento_24meses  tx_rotatividade qt_filiais  \n",
       "0               -3.703704              0.0          0  \n",
       "1                     NaN              NaN          0  \n",
       "2                     NaN              NaN          0  \n",
       "3                     NaN              NaN          0  \n",
       "4                     NaN              NaN          0  \n",
       "\n",
       "[5 rows x 182 columns]"
      ]
     },
     "execution_count": 29,
     "metadata": {},
     "output_type": "execute_result"
    }
   ],
   "source": [
    "estaticos_market = pd.read_csv('workspace/data/estaticos_market.csv')\n",
    "estaticos_market.head()"
   ]
  },
  {
   "cell_type": "code",
   "execution_count": 30,
   "metadata": {},
   "outputs": [],
   "source": [
    "data = estaticos_market[[\n",
    "    'id', \n",
    "    'de_natureza_juridica', \n",
    "    'sg_uf', \n",
    "    'natureza_juridica_macro',\n",
    "    'de_ramo',\n",
    "    'setor',\n",
    "    'idade_empresa_anos',\n",
    "    'idade_emp_cat',\n",
    "    'fl_mei',\n",
    "    'dt_situacao',\n",
    "    'fl_email',\n",
    "    'fl_telefone',\n",
    "    'fl_rm',\n",
    "    'nm_divisao',\n",
    "    'nm_segmento',\n",
    "    'fl_optante_simples',\n",
    "    'fl_optante_simei',\n",
    "    'sg_uf_matriz',\n",
    "    'de_saude_tributaria',\n",
    "    'de_saude_rescencia',\n",
    "    'nu_meses_rescencia',\n",
    "    'de_nivel_atividade',\n",
    "    'nm_meso_regiao',\n",
    "    'nm_micro_regiao',\n",
    "    'fl_passivel_iss',\n",
    "    'de_faixa_faturamento_estimado',\n",
    "    'de_faixa_faturamento_estimado_grupo'\n",
    "]]"
   ]
  },
  {
   "cell_type": "code",
   "execution_count": 31,
   "metadata": {},
   "outputs": [
    {
     "name": "stdout",
     "output_type": "stream",
     "text": [
      "Column id has 0 nulls / 0.0% \n",
      "Column de_natureza_juridica has 0 nulls / 0.0% \n",
      "Column sg_uf has 0 nulls / 0.0% \n",
      "Column natureza_juridica_macro has 0 nulls / 0.0% \n",
      "Column de_ramo has 0 nulls / 0.0% \n",
      "Column setor has 1927 nulls / 0.4168307022742906% \n",
      "Column idade_empresa_anos has 0 nulls / 0.0% \n",
      "Column idade_emp_cat has 0 nulls / 0.0% \n",
      "Column fl_mei has 0 nulls / 0.0% \n",
      "Column dt_situacao has 6 nulls / 0.0012978641482333905% \n",
      "Column fl_email has 0 nulls / 0.0% \n",
      "Column fl_telefone has 0 nulls / 0.0% \n",
      "Column fl_rm has 0 nulls / 0.0% \n",
      "Column nm_divisao has 1927 nulls / 0.4168307022742906% \n",
      "Column nm_segmento has 1927 nulls / 0.4168307022742906% \n",
      "Column fl_optante_simples has 82713 nulls / 17.891706215471405% \n",
      "Column fl_optante_simei has 82713 nulls / 17.891706215471405% \n",
      "Column sg_uf_matriz has 1939 nulls / 0.41942643057075735% \n",
      "Column de_saude_tributaria has 14851 nulls / 3.2124300775690138% \n",
      "Column de_saude_rescencia has 14851 nulls / 3.2124300775690138% \n",
      "Column nu_meses_rescencia has 45276 nulls / 9.793682862569165% \n",
      "Column de_nivel_atividade has 11168 nulls / 2.4157578012450847% \n",
      "Column nm_meso_regiao has 58698 nulls / 12.697004962167261% \n",
      "Column nm_micro_regiao has 58698 nulls / 12.697004962167261% \n",
      "Column fl_passivel_iss has 1927 nulls / 0.4168307022742906% \n",
      "Column de_faixa_faturamento_estimado has 27513 nulls / 5.951356051724212% \n",
      "Column de_faixa_faturamento_estimado_grupo has 27513 nulls / 5.951356051724212% \n"
     ]
    }
   ],
   "source": [
    "def print_null_cols(df):\n",
    "    for col in df.columns:\n",
    "        nulls_value = df[col].isna().sum()\n",
    "        percentage = 100*(nulls_value / df.shape[0])\n",
    "        message = \"Column {} has {} nulls / {}% \".format(col, nulls_value, percentage)\n",
    "        print(message)\n",
    "        \n",
    "print_null_cols(data)      "
   ]
  },
  {
   "cell_type": "markdown",
   "metadata": {},
   "source": [
    "## Primeira tentativa é preencher com 0 os valores nulos.\n",
    "\n",
    "tentar modificar esses valores com outras estratégias mais tarde"
   ]
  },
  {
   "cell_type": "code",
   "execution_count": 32,
   "metadata": {},
   "outputs": [
    {
     "name": "stderr",
     "output_type": "stream",
     "text": [
      "C:\\Anaconda3\\lib\\site-packages\\pandas\\core\\frame.py:3790: SettingWithCopyWarning: \n",
      "A value is trying to be set on a copy of a slice from a DataFrame\n",
      "\n",
      "See the caveats in the documentation: http://pandas.pydata.org/pandas-docs/stable/indexing.html#indexing-view-versus-copy\n",
      "  downcast=downcast, **kwargs)\n"
     ]
    }
   ],
   "source": [
    "data.fillna(0, inplace=True)"
   ]
  },
  {
   "cell_type": "code",
   "execution_count": 33,
   "metadata": {
    "scrolled": true
   },
   "outputs": [
    {
     "name": "stdout",
     "output_type": "stream",
     "text": [
      "Column id has 0 nulls / 0.0% \n",
      "Column de_natureza_juridica has 0 nulls / 0.0% \n",
      "Column sg_uf has 0 nulls / 0.0% \n",
      "Column natureza_juridica_macro has 0 nulls / 0.0% \n",
      "Column de_ramo has 0 nulls / 0.0% \n",
      "Column setor has 0 nulls / 0.0% \n",
      "Column idade_empresa_anos has 0 nulls / 0.0% \n",
      "Column idade_emp_cat has 0 nulls / 0.0% \n",
      "Column fl_mei has 0 nulls / 0.0% \n",
      "Column dt_situacao has 0 nulls / 0.0% \n",
      "Column fl_email has 0 nulls / 0.0% \n",
      "Column fl_telefone has 0 nulls / 0.0% \n",
      "Column fl_rm has 0 nulls / 0.0% \n",
      "Column nm_divisao has 0 nulls / 0.0% \n",
      "Column nm_segmento has 0 nulls / 0.0% \n",
      "Column fl_optante_simples has 0 nulls / 0.0% \n",
      "Column fl_optante_simei has 0 nulls / 0.0% \n",
      "Column sg_uf_matriz has 0 nulls / 0.0% \n",
      "Column de_saude_tributaria has 0 nulls / 0.0% \n",
      "Column de_saude_rescencia has 0 nulls / 0.0% \n",
      "Column nu_meses_rescencia has 0 nulls / 0.0% \n",
      "Column de_nivel_atividade has 0 nulls / 0.0% \n",
      "Column nm_meso_regiao has 0 nulls / 0.0% \n",
      "Column nm_micro_regiao has 0 nulls / 0.0% \n",
      "Column fl_passivel_iss has 0 nulls / 0.0% \n",
      "Column de_faixa_faturamento_estimado has 0 nulls / 0.0% \n",
      "Column de_faixa_faturamento_estimado_grupo has 0 nulls / 0.0% \n"
     ]
    }
   ],
   "source": [
    "#data.columns = \n",
    "print_null_cols(data)  "
   ]
  },
  {
   "cell_type": "markdown",
   "metadata": {},
   "source": [
    "## Tratar corretamente algunas dados\n",
    "\n",
    "as colunas **de_faixa_faturamento_estimado** e **de_saude_rescencia** possuem o valor **SEM INFORMACAO**, então os valores que foram preenchidos com 0 devem ser modificados"
   ]
  },
  {
   "cell_type": "code",
   "execution_count": 34,
   "metadata": {},
   "outputs": [
    {
     "name": "stdout",
     "output_type": "stream",
     "text": [
      "(27513, 27)\n",
      "(14851, 27)\n"
     ]
    }
   ],
   "source": [
    "print(data[data.de_faixa_faturamento_estimado == 0].shape)\n",
    "print(data[data.de_saude_rescencia == 0].shape)"
   ]
  },
  {
   "cell_type": "code",
   "execution_count": 35,
   "metadata": {},
   "outputs": [
    {
     "name": "stdout",
     "output_type": "stream",
     "text": [
      "(1173, 27)\n",
      "(30425, 27)\n"
     ]
    }
   ],
   "source": [
    "print(data[data.de_faixa_faturamento_estimado == 'SEM INFORMACAO'].shape)\n",
    "print(data[data.de_saude_rescencia == 'SEM INFORMACAO'].shape)"
   ]
  },
  {
   "cell_type": "markdown",
   "metadata": {},
   "source": [
    " --> Aplicar modificação"
   ]
  },
  {
   "cell_type": "code",
   "execution_count": 36,
   "metadata": {},
   "outputs": [
    {
     "name": "stderr",
     "output_type": "stream",
     "text": [
      "C:\\Anaconda3\\lib\\site-packages\\pandas\\core\\indexing.py:543: SettingWithCopyWarning: \n",
      "A value is trying to be set on a copy of a slice from a DataFrame.\n",
      "Try using .loc[row_indexer,col_indexer] = value instead\n",
      "\n",
      "See the caveats in the documentation: http://pandas.pydata.org/pandas-docs/stable/indexing.html#indexing-view-versus-copy\n",
      "  self.obj[item] = s\n"
     ]
    }
   ],
   "source": [
    "data.loc[data.de_faixa_faturamento_estimado == 0, 'de_faixa_faturamento_estimado'] = 'SEM INFORMACAO'\n",
    "data.loc[data.de_saude_rescencia == 0, 'de_saude_rescencia'] = 'SEM INFORMACAO'"
   ]
  },
  {
   "cell_type": "code",
   "execution_count": 37,
   "metadata": {},
   "outputs": [
    {
     "name": "stdout",
     "output_type": "stream",
     "text": [
      "(0, 27)\n",
      "(0, 27)\n",
      "(28686, 27)\n",
      "(45276, 27)\n"
     ]
    }
   ],
   "source": [
    "print(data[data.de_faixa_faturamento_estimado == 0].shape)\n",
    "print(data[data.de_saude_rescencia == 0].shape)\n",
    "print(data[data.de_faixa_faturamento_estimado == 'SEM INFORMACAO'].shape)\n",
    "print(data[data.de_saude_rescencia == 'SEM INFORMACAO'].shape)"
   ]
  },
  {
   "cell_type": "markdown",
   "metadata": {},
   "source": [
    "## Categorical variables\n"
   ]
  },
  {
   "cell_type": "code",
   "execution_count": 38,
   "metadata": {},
   "outputs": [],
   "source": [
    "#colunas que serão tratadas\n",
    "features = [ 'de_natureza_juridica', 'sg_uf', 'natureza_juridica_macro',\n",
    "       'de_ramo', 'setor', 'idade_emp_cat', 'fl_mei',\n",
    "       'dt_situacao', 'fl_email', 'fl_telefone', 'fl_rm', 'nm_divisao',\n",
    "       'nm_segmento', 'fl_optante_simples', 'fl_optante_simei', 'sg_uf_matriz',\n",
    "       'de_saude_tributaria', 'de_saude_rescencia',\n",
    "       'de_nivel_atividade', 'nm_meso_regiao', 'nm_micro_regiao',\n",
    "       'fl_passivel_iss', 'de_faixa_faturamento_estimado',\n",
    "       'de_faixa_faturamento_estimado_grupo']"
   ]
  },
  {
   "cell_type": "code",
   "execution_count": 39,
   "metadata": {},
   "outputs": [],
   "source": [
    "data_labeled = data.copy()"
   ]
  },
  {
   "cell_type": "code",
   "execution_count": 40,
   "metadata": {},
   "outputs": [],
   "source": [
    "for col in features:\n",
    "    encoder = preprocessing.LabelEncoder()\n",
    "    data_labeled[col] = encoder.fit_transform(data_labeled[col].astype(str))"
   ]
  },
  {
   "cell_type": "code",
   "execution_count": 41,
   "metadata": {},
   "outputs": [
    {
     "data": {
      "text/html": [
       "<div>\n",
       "<style scoped>\n",
       "    .dataframe tbody tr th:only-of-type {\n",
       "        vertical-align: middle;\n",
       "    }\n",
       "\n",
       "    .dataframe tbody tr th {\n",
       "        vertical-align: top;\n",
       "    }\n",
       "\n",
       "    .dataframe thead th {\n",
       "        text-align: right;\n",
       "    }\n",
       "</style>\n",
       "<table border=\"1\" class=\"dataframe\">\n",
       "  <thead>\n",
       "    <tr style=\"text-align: right;\">\n",
       "      <th></th>\n",
       "      <th>id</th>\n",
       "      <th>de_natureza_juridica</th>\n",
       "      <th>sg_uf</th>\n",
       "      <th>natureza_juridica_macro</th>\n",
       "      <th>de_ramo</th>\n",
       "      <th>setor</th>\n",
       "      <th>idade_empresa_anos</th>\n",
       "      <th>idade_emp_cat</th>\n",
       "      <th>fl_mei</th>\n",
       "      <th>dt_situacao</th>\n",
       "      <th>...</th>\n",
       "      <th>sg_uf_matriz</th>\n",
       "      <th>de_saude_tributaria</th>\n",
       "      <th>de_saude_rescencia</th>\n",
       "      <th>nu_meses_rescencia</th>\n",
       "      <th>de_nivel_atividade</th>\n",
       "      <th>nm_meso_regiao</th>\n",
       "      <th>nm_micro_regiao</th>\n",
       "      <th>fl_passivel_iss</th>\n",
       "      <th>de_faixa_faturamento_estimado</th>\n",
       "      <th>de_faixa_faturamento_estimado_grupo</th>\n",
       "    </tr>\n",
       "  </thead>\n",
       "  <tbody>\n",
       "    <tr>\n",
       "      <th>0</th>\n",
       "      <td>a6984c3ae395090e3bee8ad63c3758b110de096d5d8195...</td>\n",
       "      <td>60</td>\n",
       "      <td>4</td>\n",
       "      <td>2</td>\n",
       "      <td>11</td>\n",
       "      <td>3</td>\n",
       "      <td>14.457534</td>\n",
       "      <td>1</td>\n",
       "      <td>0</td>\n",
       "      <td>2710</td>\n",
       "      <td>...</td>\n",
       "      <td>20</td>\n",
       "      <td>5</td>\n",
       "      <td>0</td>\n",
       "      <td>23.0</td>\n",
       "      <td>1</td>\n",
       "      <td>7</td>\n",
       "      <td>49</td>\n",
       "      <td>2</td>\n",
       "      <td>2</td>\n",
       "      <td>3</td>\n",
       "    </tr>\n",
       "    <tr>\n",
       "      <th>1</th>\n",
       "      <td>6178f41ade1365e44bc2c46654c2c8c0eaae27dcb476c4...</td>\n",
       "      <td>17</td>\n",
       "      <td>3</td>\n",
       "      <td>5</td>\n",
       "      <td>21</td>\n",
       "      <td>5</td>\n",
       "      <td>1.463014</td>\n",
       "      <td>0</td>\n",
       "      <td>1</td>\n",
       "      <td>6812</td>\n",
       "      <td>...</td>\n",
       "      <td>17</td>\n",
       "      <td>3</td>\n",
       "      <td>1</td>\n",
       "      <td>9.0</td>\n",
       "      <td>2</td>\n",
       "      <td>5</td>\n",
       "      <td>70</td>\n",
       "      <td>2</td>\n",
       "      <td>10</td>\n",
       "      <td>11</td>\n",
       "    </tr>\n",
       "    <tr>\n",
       "      <th>2</th>\n",
       "      <td>4a7e5069a397f12fdd7fd57111d6dc5d3ba558958efc02...</td>\n",
       "      <td>17</td>\n",
       "      <td>1</td>\n",
       "      <td>5</td>\n",
       "      <td>32</td>\n",
       "      <td>5</td>\n",
       "      <td>7.093151</td>\n",
       "      <td>3</td>\n",
       "      <td>1</td>\n",
       "      <td>4784</td>\n",
       "      <td>...</td>\n",
       "      <td>3</td>\n",
       "      <td>1</td>\n",
       "      <td>0</td>\n",
       "      <td>26.0</td>\n",
       "      <td>3</td>\n",
       "      <td>3</td>\n",
       "      <td>44</td>\n",
       "      <td>2</td>\n",
       "      <td>1</td>\n",
       "      <td>2</td>\n",
       "    </tr>\n",
       "    <tr>\n",
       "      <th>3</th>\n",
       "      <td>3348900fe63216a439d2e5238c79ddd46ede454df7b9d8...</td>\n",
       "      <td>17</td>\n",
       "      <td>1</td>\n",
       "      <td>5</td>\n",
       "      <td>25</td>\n",
       "      <td>5</td>\n",
       "      <td>6.512329</td>\n",
       "      <td>3</td>\n",
       "      <td>0</td>\n",
       "      <td>4995</td>\n",
       "      <td>...</td>\n",
       "      <td>3</td>\n",
       "      <td>1</td>\n",
       "      <td>0</td>\n",
       "      <td>26.0</td>\n",
       "      <td>3</td>\n",
       "      <td>3</td>\n",
       "      <td>44</td>\n",
       "      <td>2</td>\n",
       "      <td>10</td>\n",
       "      <td>11</td>\n",
       "    </tr>\n",
       "    <tr>\n",
       "      <th>4</th>\n",
       "      <td>1f9bcabc9d3173c1fe769899e4fac14b053037b953a1e4...</td>\n",
       "      <td>17</td>\n",
       "      <td>4</td>\n",
       "      <td>5</td>\n",
       "      <td>27</td>\n",
       "      <td>5</td>\n",
       "      <td>3.200000</td>\n",
       "      <td>0</td>\n",
       "      <td>0</td>\n",
       "      <td>6184</td>\n",
       "      <td>...</td>\n",
       "      <td>20</td>\n",
       "      <td>5</td>\n",
       "      <td>0</td>\n",
       "      <td>27.0</td>\n",
       "      <td>1</td>\n",
       "      <td>7</td>\n",
       "      <td>49</td>\n",
       "      <td>2</td>\n",
       "      <td>10</td>\n",
       "      <td>11</td>\n",
       "    </tr>\n",
       "  </tbody>\n",
       "</table>\n",
       "<p>5 rows × 27 columns</p>\n",
       "</div>"
      ],
      "text/plain": [
       "                                                  id  de_natureza_juridica  \\\n",
       "0  a6984c3ae395090e3bee8ad63c3758b110de096d5d8195...                    60   \n",
       "1  6178f41ade1365e44bc2c46654c2c8c0eaae27dcb476c4...                    17   \n",
       "2  4a7e5069a397f12fdd7fd57111d6dc5d3ba558958efc02...                    17   \n",
       "3  3348900fe63216a439d2e5238c79ddd46ede454df7b9d8...                    17   \n",
       "4  1f9bcabc9d3173c1fe769899e4fac14b053037b953a1e4...                    17   \n",
       "\n",
       "   sg_uf  natureza_juridica_macro  de_ramo  setor  idade_empresa_anos  \\\n",
       "0      4                        2       11      3           14.457534   \n",
       "1      3                        5       21      5            1.463014   \n",
       "2      1                        5       32      5            7.093151   \n",
       "3      1                        5       25      5            6.512329   \n",
       "4      4                        5       27      5            3.200000   \n",
       "\n",
       "   idade_emp_cat  fl_mei  dt_situacao                 ...                   \\\n",
       "0              1       0         2710                 ...                    \n",
       "1              0       1         6812                 ...                    \n",
       "2              3       1         4784                 ...                    \n",
       "3              3       0         4995                 ...                    \n",
       "4              0       0         6184                 ...                    \n",
       "\n",
       "   sg_uf_matriz  de_saude_tributaria  de_saude_rescencia  nu_meses_rescencia  \\\n",
       "0            20                    5                   0                23.0   \n",
       "1            17                    3                   1                 9.0   \n",
       "2             3                    1                   0                26.0   \n",
       "3             3                    1                   0                26.0   \n",
       "4            20                    5                   0                27.0   \n",
       "\n",
       "   de_nivel_atividade  nm_meso_regiao  nm_micro_regiao  fl_passivel_iss  \\\n",
       "0                   1               7               49                2   \n",
       "1                   2               5               70                2   \n",
       "2                   3               3               44                2   \n",
       "3                   3               3               44                2   \n",
       "4                   1               7               49                2   \n",
       "\n",
       "   de_faixa_faturamento_estimado  de_faixa_faturamento_estimado_grupo  \n",
       "0                              2                                    3  \n",
       "1                             10                                   11  \n",
       "2                              1                                    2  \n",
       "3                             10                                   11  \n",
       "4                             10                                   11  \n",
       "\n",
       "[5 rows x 27 columns]"
      ]
     },
     "execution_count": 41,
     "metadata": {},
     "output_type": "execute_result"
    }
   ],
   "source": [
    "data_labeled.head()"
   ]
  },
  {
   "cell_type": "code",
   "execution_count": 42,
   "metadata": {},
   "outputs": [
    {
     "data": {
      "text/plain": [
       "id                                     462298\n",
       "de_natureza_juridica                       67\n",
       "sg_uf                                       6\n",
       "natureza_juridica_macro                     7\n",
       "de_ramo                                    33\n",
       "setor                                       6\n",
       "idade_empresa_anos                      14198\n",
       "idade_emp_cat                               6\n",
       "fl_mei                                      2\n",
       "dt_situacao                              7335\n",
       "fl_email                                    2\n",
       "fl_telefone                                 2\n",
       "fl_rm                                       2\n",
       "nm_divisao                                 88\n",
       "nm_segmento                                22\n",
       "fl_optante_simples                          3\n",
       "fl_optante_simei                            3\n",
       "sg_uf_matriz                               28\n",
       "de_saude_tributaria                         7\n",
       "de_saude_rescencia                          5\n",
       "nu_meses_rescencia                         51\n",
       "de_nivel_atividade                          5\n",
       "nm_meso_regiao                             20\n",
       "nm_micro_regiao                            74\n",
       "fl_passivel_iss                             3\n",
       "de_faixa_faturamento_estimado              12\n",
       "de_faixa_faturamento_estimado_grupo        12\n",
       "dtype: int64"
      ]
     },
     "execution_count": 42,
     "metadata": {},
     "output_type": "execute_result"
    }
   ],
   "source": [
    "\n",
    "data_labeled.nunique()"
   ]
  },
  {
   "cell_type": "code",
   "execution_count": 43,
   "metadata": {},
   "outputs": [
    {
     "data": {
      "text/html": [
       "<div>\n",
       "<style scoped>\n",
       "    .dataframe tbody tr th:only-of-type {\n",
       "        vertical-align: middle;\n",
       "    }\n",
       "\n",
       "    .dataframe tbody tr th {\n",
       "        vertical-align: top;\n",
       "    }\n",
       "\n",
       "    .dataframe thead th {\n",
       "        text-align: right;\n",
       "    }\n",
       "</style>\n",
       "<table border=\"1\" class=\"dataframe\">\n",
       "  <thead>\n",
       "    <tr style=\"text-align: right;\">\n",
       "      <th></th>\n",
       "      <th>0</th>\n",
       "      <th>1</th>\n",
       "      <th>2</th>\n",
       "      <th>3</th>\n",
       "      <th>4</th>\n",
       "      <th>5</th>\n",
       "      <th>6</th>\n",
       "      <th>7</th>\n",
       "      <th>8</th>\n",
       "      <th>9</th>\n",
       "      <th>10</th>\n",
       "    </tr>\n",
       "  </thead>\n",
       "  <tbody>\n",
       "    <tr>\n",
       "      <th>0</th>\n",
       "      <td>0.0</td>\n",
       "      <td>1.0</td>\n",
       "      <td>0.0</td>\n",
       "      <td>0.0</td>\n",
       "      <td>0.0</td>\n",
       "      <td>0.0</td>\n",
       "      <td>0.0</td>\n",
       "      <td>0.0</td>\n",
       "      <td>0.0</td>\n",
       "      <td>0.0</td>\n",
       "      <td>0.0</td>\n",
       "    </tr>\n",
       "    <tr>\n",
       "      <th>1</th>\n",
       "      <td>0.0</td>\n",
       "      <td>0.0</td>\n",
       "      <td>0.0</td>\n",
       "      <td>0.0</td>\n",
       "      <td>0.0</td>\n",
       "      <td>0.0</td>\n",
       "      <td>0.0</td>\n",
       "      <td>0.0</td>\n",
       "      <td>0.0</td>\n",
       "      <td>1.0</td>\n",
       "      <td>0.0</td>\n",
       "    </tr>\n",
       "    <tr>\n",
       "      <th>2</th>\n",
       "      <td>1.0</td>\n",
       "      <td>0.0</td>\n",
       "      <td>0.0</td>\n",
       "      <td>0.0</td>\n",
       "      <td>0.0</td>\n",
       "      <td>0.0</td>\n",
       "      <td>0.0</td>\n",
       "      <td>0.0</td>\n",
       "      <td>0.0</td>\n",
       "      <td>0.0</td>\n",
       "      <td>0.0</td>\n",
       "    </tr>\n",
       "    <tr>\n",
       "      <th>3</th>\n",
       "      <td>0.0</td>\n",
       "      <td>0.0</td>\n",
       "      <td>0.0</td>\n",
       "      <td>0.0</td>\n",
       "      <td>0.0</td>\n",
       "      <td>0.0</td>\n",
       "      <td>0.0</td>\n",
       "      <td>0.0</td>\n",
       "      <td>0.0</td>\n",
       "      <td>1.0</td>\n",
       "      <td>0.0</td>\n",
       "    </tr>\n",
       "    <tr>\n",
       "      <th>4</th>\n",
       "      <td>0.0</td>\n",
       "      <td>0.0</td>\n",
       "      <td>0.0</td>\n",
       "      <td>0.0</td>\n",
       "      <td>0.0</td>\n",
       "      <td>0.0</td>\n",
       "      <td>0.0</td>\n",
       "      <td>0.0</td>\n",
       "      <td>0.0</td>\n",
       "      <td>1.0</td>\n",
       "      <td>0.0</td>\n",
       "    </tr>\n",
       "  </tbody>\n",
       "</table>\n",
       "</div>"
      ],
      "text/plain": [
       "    0    1    2    3    4    5    6    7    8    9    10\n",
       "0  0.0  1.0  0.0  0.0  0.0  0.0  0.0  0.0  0.0  0.0  0.0\n",
       "1  0.0  0.0  0.0  0.0  0.0  0.0  0.0  0.0  0.0  1.0  0.0\n",
       "2  1.0  0.0  0.0  0.0  0.0  0.0  0.0  0.0  0.0  0.0  0.0\n",
       "3  0.0  0.0  0.0  0.0  0.0  0.0  0.0  0.0  0.0  1.0  0.0\n",
       "4  0.0  0.0  0.0  0.0  0.0  0.0  0.0  0.0  0.0  1.0  0.0"
      ]
     },
     "execution_count": 43,
     "metadata": {},
     "output_type": "execute_result"
    }
   ],
   "source": [
    "features_ohe = ['de_faixa_faturamento_estimado']\n",
    "\n",
    "\n",
    "from sklearn.preprocessing import OneHotEncoder\n",
    "one_hot_encoder = OneHotEncoder(sparse=False, categories= 'auto', drop='first')\n",
    "\n",
    "data_ohe_selected = pd.DataFrame( one_hot_encoder.fit_transform(data_labeled[features_ohe]))\n",
    "\n",
    "data_ohe_selected.head()"
   ]
  },
  {
   "cell_type": "code",
   "execution_count": 44,
   "metadata": {},
   "outputs": [
    {
     "name": "stdout",
     "output_type": "stream",
     "text": [
      "(462298, 27) (462298, 37)\n"
     ]
    }
   ],
   "source": [
    "data_ohe = data_labeled.copy()\n",
    "data_ohe = data_ohe.drop(features_ohe, axis=1)\n",
    "\n",
    "#print(data_labeled.shape)\n",
    "#print(data_ohe.shape)\n",
    "#print(data_ohe_selected.shape)\n",
    "\n",
    "data_ohe = pd.concat([data_ohe, data_ohe_selected], axis=1)\n",
    "\n",
    "print(data_labeled.shape, data_ohe.shape)"
   ]
  },
  {
   "cell_type": "markdown",
   "metadata": {},
   "source": [
    "\n"
   ]
  },
  {
   "cell_type": "markdown",
   "metadata": {},
   "source": [
    "# Scaler"
   ]
  },
  {
   "cell_type": "code",
   "execution_count": 45,
   "metadata": {},
   "outputs": [],
   "source": [
    "from sklearn.preprocessing import MinMaxScaler\n",
    "from sklearn.preprocessing import RobustScaler\n",
    "from sklearn.preprocessing import MaxAbsScaler\n",
    "from sklearn.preprocessing import Normalizer\n",
    "from sklearn.preprocessing import StandardScaler"
   ]
  },
  {
   "cell_type": "code",
   "execution_count": 46,
   "metadata": {},
   "outputs": [],
   "source": [
    "#scaler = RobustScaler()\n",
    "scaler = StandardScaler()\n"
   ]
  },
  {
   "cell_type": "code",
   "execution_count": 47,
   "metadata": {},
   "outputs": [],
   "source": [
    "\n",
    "#data_scaler = data_labeled.copy()\n",
    "data_scaler = data_ohe.copy()\n",
    "data_scaler[data_ohe.columns[1:]] = scaler.fit_transform(data_ohe[data_ohe.columns[1:]])"
   ]
  },
  {
   "cell_type": "code",
   "execution_count": null,
   "metadata": {},
   "outputs": [],
   "source": []
  },
  {
   "cell_type": "code",
   "execution_count": 48,
   "metadata": {},
   "outputs": [
    {
     "data": {
      "text/html": [
       "<div>\n",
       "<style scoped>\n",
       "    .dataframe tbody tr th:only-of-type {\n",
       "        vertical-align: middle;\n",
       "    }\n",
       "\n",
       "    .dataframe tbody tr th {\n",
       "        vertical-align: top;\n",
       "    }\n",
       "\n",
       "    .dataframe thead th {\n",
       "        text-align: right;\n",
       "    }\n",
       "</style>\n",
       "<table border=\"1\" class=\"dataframe\">\n",
       "  <thead>\n",
       "    <tr style=\"text-align: right;\">\n",
       "      <th></th>\n",
       "      <th>id</th>\n",
       "      <th>de_natureza_juridica</th>\n",
       "      <th>sg_uf</th>\n",
       "      <th>natureza_juridica_macro</th>\n",
       "      <th>de_ramo</th>\n",
       "      <th>setor</th>\n",
       "      <th>idade_empresa_anos</th>\n",
       "      <th>idade_emp_cat</th>\n",
       "      <th>fl_mei</th>\n",
       "      <th>dt_situacao</th>\n",
       "      <th>...</th>\n",
       "      <th>1</th>\n",
       "      <th>2</th>\n",
       "      <th>3</th>\n",
       "      <th>4</th>\n",
       "      <th>5</th>\n",
       "      <th>6</th>\n",
       "      <th>7</th>\n",
       "      <th>8</th>\n",
       "      <th>9</th>\n",
       "      <th>10</th>\n",
       "    </tr>\n",
       "  </thead>\n",
       "  <tbody>\n",
       "    <tr>\n",
       "      <th>0</th>\n",
       "      <td>a6984c3ae395090e3bee8ad63c3758b110de096d5d8195...</td>\n",
       "      <td>1.841563</td>\n",
       "      <td>0.925065</td>\n",
       "      <td>-1.626774</td>\n",
       "      <td>-0.190962</td>\n",
       "      <td>-0.280863</td>\n",
       "      <td>0.468908</td>\n",
       "      <td>-0.673788</td>\n",
       "      <td>-0.696124</td>\n",
       "      <td>-1.275305</td>\n",
       "      <td>...</td>\n",
       "      <td>6.673316</td>\n",
       "      <td>-0.055995</td>\n",
       "      <td>-0.0234</td>\n",
       "      <td>-0.043447</td>\n",
       "      <td>-0.01019</td>\n",
       "      <td>-0.333314</td>\n",
       "      <td>-0.068355</td>\n",
       "      <td>-0.007642</td>\n",
       "      <td>-1.205541</td>\n",
       "      <td>-0.257208</td>\n",
       "    </tr>\n",
       "    <tr>\n",
       "      <th>1</th>\n",
       "      <td>6178f41ade1365e44bc2c46654c2c8c0eaae27dcb476c4...</td>\n",
       "      <td>-0.445031</td>\n",
       "      <td>0.217048</td>\n",
       "      <td>0.640300</td>\n",
       "      <td>0.831845</td>\n",
       "      <td>1.110191</td>\n",
       "      <td>-0.882484</td>\n",
       "      <td>-1.218032</td>\n",
       "      <td>1.436525</td>\n",
       "      <td>1.196407</td>\n",
       "      <td>...</td>\n",
       "      <td>-0.149851</td>\n",
       "      <td>-0.055995</td>\n",
       "      <td>-0.0234</td>\n",
       "      <td>-0.043447</td>\n",
       "      <td>-0.01019</td>\n",
       "      <td>-0.333314</td>\n",
       "      <td>-0.068355</td>\n",
       "      <td>-0.007642</td>\n",
       "      <td>0.829503</td>\n",
       "      <td>-0.257208</td>\n",
       "    </tr>\n",
       "    <tr>\n",
       "      <th>2</th>\n",
       "      <td>4a7e5069a397f12fdd7fd57111d6dc5d3ba558958efc02...</td>\n",
       "      <td>-0.445031</td>\n",
       "      <td>-1.198987</td>\n",
       "      <td>0.640300</td>\n",
       "      <td>1.956933</td>\n",
       "      <td>1.110191</td>\n",
       "      <td>-0.296966</td>\n",
       "      <td>0.414699</td>\n",
       "      <td>1.436525</td>\n",
       "      <td>-0.025590</td>\n",
       "      <td>...</td>\n",
       "      <td>-0.149851</td>\n",
       "      <td>-0.055995</td>\n",
       "      <td>-0.0234</td>\n",
       "      <td>-0.043447</td>\n",
       "      <td>-0.01019</td>\n",
       "      <td>-0.333314</td>\n",
       "      <td>-0.068355</td>\n",
       "      <td>-0.007642</td>\n",
       "      <td>-1.205541</td>\n",
       "      <td>-0.257208</td>\n",
       "    </tr>\n",
       "    <tr>\n",
       "      <th>3</th>\n",
       "      <td>3348900fe63216a439d2e5238c79ddd46ede454df7b9d8...</td>\n",
       "      <td>-0.445031</td>\n",
       "      <td>-1.198987</td>\n",
       "      <td>0.640300</td>\n",
       "      <td>1.240968</td>\n",
       "      <td>1.110191</td>\n",
       "      <td>-0.357370</td>\n",
       "      <td>0.414699</td>\n",
       "      <td>-0.696124</td>\n",
       "      <td>0.101551</td>\n",
       "      <td>...</td>\n",
       "      <td>-0.149851</td>\n",
       "      <td>-0.055995</td>\n",
       "      <td>-0.0234</td>\n",
       "      <td>-0.043447</td>\n",
       "      <td>-0.01019</td>\n",
       "      <td>-0.333314</td>\n",
       "      <td>-0.068355</td>\n",
       "      <td>-0.007642</td>\n",
       "      <td>0.829503</td>\n",
       "      <td>-0.257208</td>\n",
       "    </tr>\n",
       "    <tr>\n",
       "      <th>4</th>\n",
       "      <td>1f9bcabc9d3173c1fe769899e4fac14b053037b953a1e4...</td>\n",
       "      <td>-0.445031</td>\n",
       "      <td>0.925065</td>\n",
       "      <td>0.640300</td>\n",
       "      <td>1.445530</td>\n",
       "      <td>1.110191</td>\n",
       "      <td>-0.701843</td>\n",
       "      <td>-1.218032</td>\n",
       "      <td>-0.696124</td>\n",
       "      <td>0.817998</td>\n",
       "      <td>...</td>\n",
       "      <td>-0.149851</td>\n",
       "      <td>-0.055995</td>\n",
       "      <td>-0.0234</td>\n",
       "      <td>-0.043447</td>\n",
       "      <td>-0.01019</td>\n",
       "      <td>-0.333314</td>\n",
       "      <td>-0.068355</td>\n",
       "      <td>-0.007642</td>\n",
       "      <td>0.829503</td>\n",
       "      <td>-0.257208</td>\n",
       "    </tr>\n",
       "  </tbody>\n",
       "</table>\n",
       "<p>5 rows × 37 columns</p>\n",
       "</div>"
      ],
      "text/plain": [
       "                                                  id  de_natureza_juridica  \\\n",
       "0  a6984c3ae395090e3bee8ad63c3758b110de096d5d8195...              1.841563   \n",
       "1  6178f41ade1365e44bc2c46654c2c8c0eaae27dcb476c4...             -0.445031   \n",
       "2  4a7e5069a397f12fdd7fd57111d6dc5d3ba558958efc02...             -0.445031   \n",
       "3  3348900fe63216a439d2e5238c79ddd46ede454df7b9d8...             -0.445031   \n",
       "4  1f9bcabc9d3173c1fe769899e4fac14b053037b953a1e4...             -0.445031   \n",
       "\n",
       "      sg_uf  natureza_juridica_macro   de_ramo     setor  idade_empresa_anos  \\\n",
       "0  0.925065                -1.626774 -0.190962 -0.280863            0.468908   \n",
       "1  0.217048                 0.640300  0.831845  1.110191           -0.882484   \n",
       "2 -1.198987                 0.640300  1.956933  1.110191           -0.296966   \n",
       "3 -1.198987                 0.640300  1.240968  1.110191           -0.357370   \n",
       "4  0.925065                 0.640300  1.445530  1.110191           -0.701843   \n",
       "\n",
       "   idade_emp_cat    fl_mei  dt_situacao    ...            1         2       3  \\\n",
       "0      -0.673788 -0.696124    -1.275305    ...     6.673316 -0.055995 -0.0234   \n",
       "1      -1.218032  1.436525     1.196407    ...    -0.149851 -0.055995 -0.0234   \n",
       "2       0.414699  1.436525    -0.025590    ...    -0.149851 -0.055995 -0.0234   \n",
       "3       0.414699 -0.696124     0.101551    ...    -0.149851 -0.055995 -0.0234   \n",
       "4      -1.218032 -0.696124     0.817998    ...    -0.149851 -0.055995 -0.0234   \n",
       "\n",
       "          4        5         6         7         8         9        10  \n",
       "0 -0.043447 -0.01019 -0.333314 -0.068355 -0.007642 -1.205541 -0.257208  \n",
       "1 -0.043447 -0.01019 -0.333314 -0.068355 -0.007642  0.829503 -0.257208  \n",
       "2 -0.043447 -0.01019 -0.333314 -0.068355 -0.007642 -1.205541 -0.257208  \n",
       "3 -0.043447 -0.01019 -0.333314 -0.068355 -0.007642  0.829503 -0.257208  \n",
       "4 -0.043447 -0.01019 -0.333314 -0.068355 -0.007642  0.829503 -0.257208  \n",
       "\n",
       "[5 rows x 37 columns]"
      ]
     },
     "execution_count": 48,
     "metadata": {},
     "output_type": "execute_result"
    }
   ],
   "source": [
    "data_scaler.head()"
   ]
  },
  {
   "cell_type": "markdown",
   "metadata": {},
   "source": [
    "# Modelo de predição"
   ]
  },
  {
   "cell_type": "code",
   "execution_count": 49,
   "metadata": {},
   "outputs": [],
   "source": [
    "from sklearn.metrics.pairwise import cosine_similarity"
   ]
  },
  {
   "cell_type": "code",
   "execution_count": 50,
   "metadata": {},
   "outputs": [],
   "source": [
    "# Get recommendations\n",
    "def get_recommendations(target, market, nRecomendations = 1000):\n",
    "    '''\n",
    "    Recomendação de acordo com uma amostra\n",
    "    \n",
    "    target -- amostras de entrada\n",
    "    market -- mercado que serão buscadas as amostras similares\n",
    "    nRecomendations --numero de recomendações para o portifolio\n",
    "    \n",
    "    Return:\n",
    "        Ids\n",
    "        Scores de similaridades\n",
    "    '''\n",
    "    titles = market['id']\n",
    "    cosine_sim = cosine_similarity(target[data_ohe.columns[1:]], market[data_ohe.columns[1:]])\n",
    "    cosine_sim = np.sum(cosine_sim, axis=0)\n",
    "    cosine_sim = np.reshape(cosine_sim, (1,cosine_sim.shape[0]))\n",
    "    sim_scores = list(enumerate(cosine_sim[0]))\n",
    "    sim_scores = sorted(sim_scores, key=lambda x: x[1], reverse=True)\n",
    "    all_scores = np.array(sim_scores[:]) # All cosine distances id x market\n",
    "    sim_scores = np.array(sim_scores[:nRecomendations]) # Number of recomendations per id\n",
    "    t = pd.concat([titles.iloc[sim_scores[:,0]].to_frame().reset_index(), pd.DataFrame(sim_scores[:,1])],axis=1 ,ignore_index=False)\n",
    "    return t"
   ]
  },
  {
   "cell_type": "markdown",
   "metadata": {},
   "source": [
    "# Métrica\n",
    "\n"
   ]
  },
  {
   "cell_type": "code",
   "execution_count": 51,
   "metadata": {},
   "outputs": [],
   "source": [
    "\n",
    "def extractPortfolio(market, portfolio):\n",
    "    '''\n",
    "    Retira as amostras do portifolio do mercado\n",
    "    \n",
    "    Return:\n",
    "        Mercado sem portfolio\n",
    "        Portifolio\n",
    "    '''\n",
    "    portfolio_id = portfolio.id\n",
    "    port = market[market.id.isin( portfolio_id.values)]\n",
    "    market_new =  market.drop(market[market.id.isin(portfolio_id.values)].index)\n",
    "    return market_new , port"
   ]
  },
  {
   "cell_type": "code",
   "execution_count": 52,
   "metadata": {},
   "outputs": [],
   "source": [
    "def check_result(result, test):\n",
    "    '''\n",
    "    Verifica quantos ovalores esperados (test) estão na resposta dada pelo modelo (result)\n",
    "    \n",
    "    result - resultado do modelo de predição\n",
    "    test - respostas esperadas\n",
    "    \n",
    "    Retorno:\n",
    "        numeto de amostras de testes no resultado\n",
    "        razão de amostras de testes no resultado sobre o numero de amostras testes\n",
    "    '''\n",
    "    r = result.id.isin(test.id)\n",
    "    return r.sum() , r.sum()/test.shape[0]\n",
    "    "
   ]
  },
  {
   "cell_type": "markdown",
   "metadata": {},
   "source": [
    "### Ideia\n",
    "\n",
    "seeds = [ 123, 345, 321, 1324, 45, 9, 86] #seeds fixas para ter sempre a mesma métrica\n",
    "\n",
    "for s in seeds:\n",
    "    fora , dentro , _, _ = train_test_split(port, port, test_size=0.33, random_state=s)\n",
    "\n",
    "    m, p = extractPortfolio(market, dentro)\n",
    "\n",
    "    result = get_recommendations(m, p) # get recomendation com portfolio e mercado separados\n",
    "\n",
    "    overlap_rec = check(result, fora) # verifica se as amostras  que n foram usadas, foram listadas no resultado\n",
    "    metrics.append(overlap_rec)\n",
    "\n",
    "\n",
    "metric = metrics.mean() #gerar isso para todos os portfolios"
   ]
  },
  {
   "cell_type": "code",
   "execution_count": 53,
   "metadata": {},
   "outputs": [],
   "source": [
    "from sklearn.model_selection import train_test_split\n",
    "\n",
    "def calc_metric(portfolio, market):\n",
    "    seeds = [ 123, 345, 321, 1324, 45, 9, 86 ]\n",
    "    \n",
    "    metrics = []\n",
    "    ratios = []\n",
    "    for s in seeds:\n",
    "        print(\"teste\", s)\n",
    "        \n",
    "        train , test , _, _ = train_test_split(portfolio, portfolio, test_size=0.30, random_state=s)\n",
    "       \n",
    "        new_market, port = extractPortfolio(market, train)\n",
    "\n",
    "        #result = get_recommendations(port, new_market, round(new_market.shape[0]/2)) # test, em quantidade, a metade do mercado todo\n",
    "        result = get_recommendations(port, new_market, port.shape[0]) # test, em quantidade, mesmo numero de amostras do portifolio\n",
    "        \n",
    "        #checa qnts de test estão no result\n",
    "        overlap, ratio = check_result(result, test) \n",
    "        print('results:', overlap, ratio)\n",
    "        metrics.append(overlap)\n",
    "        ratios.append(ratio)\n",
    "    \n",
    "    return sum(metrics)/len(metrics),  sum(ratios)/len(ratios)"
   ]
  },
  {
   "cell_type": "markdown",
   "metadata": {},
   "source": [
    "## TESTE"
   ]
  },
  {
   "cell_type": "code",
   "execution_count": 54,
   "metadata": {},
   "outputs": [],
   "source": [
    "port1 = pd.read_csv('workspace/data/estaticos_portfolio1.csv')\n",
    "port2 = pd.read_csv('workspace/data/estaticos_portfolio2.csv')\n",
    "port3 = pd.read_csv('workspace/data/estaticos_portfolio3.csv')"
   ]
  },
  {
   "cell_type": "code",
   "execution_count": 55,
   "metadata": {},
   "outputs": [
    {
     "name": "stdout",
     "output_type": "stream",
     "text": [
      "market (462298, 37)\n",
      "port1 (555, 182)\n",
      "port2 (566, 2)\n",
      "port3 (265, 2)\n"
     ]
    }
   ],
   "source": [
    "print('market', data_scaler.shape)\n",
    "print('port1',port1.shape)\n",
    "print('port2',port2.shape)\n",
    "print('port3',port3.shape)"
   ]
  },
  {
   "cell_type": "code",
   "execution_count": 56,
   "metadata": {},
   "outputs": [
    {
     "name": "stdout",
     "output_type": "stream",
     "text": [
      "teste 123\n",
      "results: 0 0.0\n",
      "teste 345\n",
      "results: 0 0.0\n",
      "teste 321\n",
      "results: 0 0.0\n",
      "teste 1324\n",
      "results: 0 0.0\n",
      "teste 45\n",
      "results: 0 0.0\n",
      "teste 9\n",
      "results: 0 0.0\n",
      "teste 86\n",
      "results: 0 0.0\n",
      "metric 0.0 0.0\n"
     ]
    }
   ],
   "source": [
    "a, b = calc_metric(port1, data_scaler)\n",
    "print('metric', a, b)"
   ]
  },
  {
   "cell_type": "code",
   "execution_count": 57,
   "metadata": {},
   "outputs": [
    {
     "name": "stdout",
     "output_type": "stream",
     "text": [
      "teste 123\n",
      "results: 54 0.3176470588235294\n",
      "teste 345\n",
      "results: 53 0.31176470588235294\n",
      "teste 321\n",
      "results: 41 0.2411764705882353\n",
      "teste 1324\n",
      "results: 35 0.20588235294117646\n",
      "teste 45\n",
      "results: 47 0.27647058823529413\n",
      "teste 9\n",
      "results: 51 0.3\n",
      "teste 86\n",
      "results: 44 0.25882352941176473\n",
      "metric 46.42857142857143 0.273109243697479\n"
     ]
    }
   ],
   "source": [
    "a, b = calc_metric(port2, data_scaler)\n",
    "print('metric', a, b)"
   ]
  },
  {
   "cell_type": "code",
   "execution_count": 58,
   "metadata": {},
   "outputs": [
    {
     "name": "stdout",
     "output_type": "stream",
     "text": [
      "teste 123\n",
      "results: 21 0.2625\n",
      "teste 345\n",
      "results: 24 0.3\n",
      "teste 321\n",
      "results: 22 0.275\n",
      "teste 1324\n",
      "results: 18 0.225\n",
      "teste 45\n",
      "results: 26 0.325\n",
      "teste 9\n",
      "results: 22 0.275\n",
      "teste 86\n",
      "results: 19 0.2375\n",
      "metric 21.714285714285715 0.27142857142857146\n"
     ]
    }
   ],
   "source": [
    "a, b = calc_metric(port3, data_scaler)\n",
    "print('metric', a, b)"
   ]
  },
  {
   "cell_type": "code",
   "execution_count": 1,
   "metadata": {},
   "outputs": [
    {
     "data": {
      "text/html": [
       "\n",
       "        <iframe\n",
       "            width=\"1000\"\n",
       "            height=\"500\"\n",
       "            src=\"results.pdf\"\n",
       "            frameborder=\"0\"\n",
       "            allowfullscreen\n",
       "        ></iframe>\n",
       "        "
      ],
      "text/plain": [
       "<IPython.lib.display.IFrame at 0x16b327ddf98>"
      ]
     },
     "execution_count": 1,
     "metadata": {},
     "output_type": "execute_result"
    }
   ],
   "source": [
    "from IPython.display import IFrame\n",
    "IFrame(\"results.pdf\", width=1000, height=500)"
   ]
  },
  {
   "cell_type": "markdown",
   "metadata": {},
   "source": [
    "# Conclusão\n"
   ]
  },
  {
   "cell_type": "markdown",
   "metadata": {},
   "source": [
    "- A métrica é influenciada diretamente pelo número de recomendações que é retornado;\n",
    "\n",
    "- E proporção da divisão entre treinamento/teste se provou impactar diretamente os valores das métricas em testes realizados durante o processo;\n",
    "\n",
    "- Uma melhora que pode ser realizada é adicionar a informação de quão antes as amostras esperadas estão do topo. Com essa estratégia talvez seja possível tornar a métrica indenpendente da quantidade de recomendações. Outra mudança na métrica que pode ser testada é determinar um threshold para determinar quais empresas serão recomendadas, dessa maneira o número de *leads* será varável;\n",
    "\n",
    "- Algumas informações como a quantidade de recomendações e como o \"cliente\" entende ser a melhor métrica para o problema atrapalhou um pouco;\n",
    "\n",
    "- A pouca quantidade de portifolios para serem testados também foi um problema;\n",
    "\n",
    "- No mundo real poderíamos utilizar testes A/B para e o feedback dos clientes para saber se a nova solução é melhor, já que se trata de um problema não supervisionado;\n",
    "\n"
   ]
  },
  {
   "cell_type": "code",
   "execution_count": null,
   "metadata": {},
   "outputs": [],
   "source": []
  }
 ],
 "metadata": {
  "kernelspec": {
   "display_name": "Python 3",
   "language": "python",
   "name": "python3"
  },
  "language_info": {
   "codemirror_mode": {
    "name": "ipython",
    "version": 3
   },
   "file_extension": ".py",
   "mimetype": "text/x-python",
   "name": "python",
   "nbconvert_exporter": "python",
   "pygments_lexer": "ipython3",
   "version": "3.7.1"
  }
 },
 "nbformat": 4,
 "nbformat_minor": 2
}
